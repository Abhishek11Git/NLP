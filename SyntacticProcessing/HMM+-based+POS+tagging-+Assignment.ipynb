{
 "cells": [
  {
   "cell_type": "markdown",
   "metadata": {},
   "source": [
    "## POS tagging using modified Viterbi"
   ]
  },
  {
   "cell_type": "markdown",
   "metadata": {},
   "source": [
    "### Data Preparation"
   ]
  },
  {
   "cell_type": "code",
   "execution_count": 1,
   "metadata": {},
   "outputs": [
    {
     "name": "stderr",
     "output_type": "stream",
     "text": [
      "G:\\Anaconda\\lib\\site-packages\\statsmodels\\tools\\_testing.py:19: FutureWarning: pandas.util.testing is deprecated. Use the functions in the public API at pandas.testing instead.\n",
      "  import pandas.util.testing as tm\n"
     ]
    }
   ],
   "source": [
    "#Importing libraries\n",
    "import nltk, re, pprint\n",
    "import numpy as np\n",
    "import pandas as pd\n",
    "import requests\n",
    "import matplotlib.pyplot as plt\n",
    "import seaborn as sns\n",
    "import pprint, time\n",
    "import random\n",
    "from sklearn.model_selection import train_test_split\n",
    "from nltk.tokenize import word_tokenize\n",
    "import codecs"
   ]
  },
  {
   "cell_type": "code",
   "execution_count": 2,
   "metadata": {},
   "outputs": [
    {
     "name": "stderr",
     "output_type": "stream",
     "text": [
      "[nltk_data] Downloading package treebank to\n",
      "[nltk_data]     C:\\Users\\Abhishek\\AppData\\Roaming\\nltk_data...\n",
      "[nltk_data]   Package treebank is already up-to-date!\n",
      "[nltk_data] Downloading package universal_tagset to\n",
      "[nltk_data]     C:\\Users\\Abhishek\\AppData\\Roaming\\nltk_data...\n",
      "[nltk_data]   Package universal_tagset is already up-to-date!\n"
     ]
    },
    {
     "data": {
      "text/plain": [
       "True"
      ]
     },
     "execution_count": 2,
     "metadata": {},
     "output_type": "execute_result"
    }
   ],
   "source": [
    "nltk.download('treebank')\n",
    "nltk.download('universal_tagset')"
   ]
  },
  {
   "cell_type": "code",
   "execution_count": 3,
   "metadata": {},
   "outputs": [],
   "source": [
    "# reading the Treebank tagged sentences\n",
    "nltk_data = list(nltk.corpus.treebank.tagged_sents(tagset='universal'))"
   ]
  },
  {
   "cell_type": "code",
   "execution_count": 4,
   "metadata": {},
   "outputs": [
    {
     "data": {
      "text/plain": [
       "[[('Pierre', 'NOUN'),\n",
       "  ('Vinken', 'NOUN'),\n",
       "  (',', '.'),\n",
       "  ('61', 'NUM'),\n",
       "  ('years', 'NOUN'),\n",
       "  ('old', 'ADJ'),\n",
       "  (',', '.'),\n",
       "  ('will', 'VERB'),\n",
       "  ('join', 'VERB'),\n",
       "  ('the', 'DET'),\n",
       "  ('board', 'NOUN'),\n",
       "  ('as', 'ADP'),\n",
       "  ('a', 'DET'),\n",
       "  ('nonexecutive', 'ADJ'),\n",
       "  ('director', 'NOUN'),\n",
       "  ('Nov.', 'NOUN'),\n",
       "  ('29', 'NUM'),\n",
       "  ('.', '.')],\n",
       " [('Mr.', 'NOUN'),\n",
       "  ('Vinken', 'NOUN'),\n",
       "  ('is', 'VERB'),\n",
       "  ('chairman', 'NOUN'),\n",
       "  ('of', 'ADP'),\n",
       "  ('Elsevier', 'NOUN'),\n",
       "  ('N.V.', 'NOUN'),\n",
       "  (',', '.'),\n",
       "  ('the', 'DET'),\n",
       "  ('Dutch', 'NOUN'),\n",
       "  ('publishing', 'VERB'),\n",
       "  ('group', 'NOUN'),\n",
       "  ('.', '.')],\n",
       " [('Rudolph', 'NOUN'),\n",
       "  ('Agnew', 'NOUN'),\n",
       "  (',', '.'),\n",
       "  ('55', 'NUM'),\n",
       "  ('years', 'NOUN'),\n",
       "  ('old', 'ADJ'),\n",
       "  ('and', 'CONJ'),\n",
       "  ('former', 'ADJ'),\n",
       "  ('chairman', 'NOUN'),\n",
       "  ('of', 'ADP'),\n",
       "  ('Consolidated', 'NOUN'),\n",
       "  ('Gold', 'NOUN'),\n",
       "  ('Fields', 'NOUN'),\n",
       "  ('PLC', 'NOUN'),\n",
       "  (',', '.'),\n",
       "  ('was', 'VERB'),\n",
       "  ('named', 'VERB'),\n",
       "  ('*-1', 'X'),\n",
       "  ('a', 'DET'),\n",
       "  ('nonexecutive', 'ADJ'),\n",
       "  ('director', 'NOUN'),\n",
       "  ('of', 'ADP'),\n",
       "  ('this', 'DET'),\n",
       "  ('British', 'ADJ'),\n",
       "  ('industrial', 'ADJ'),\n",
       "  ('conglomerate', 'NOUN'),\n",
       "  ('.', '.')]]"
      ]
     },
     "execution_count": 4,
     "metadata": {},
     "output_type": "execute_result"
    }
   ],
   "source": [
    "nltk_data[:3]"
   ]
  },
  {
   "cell_type": "code",
   "execution_count": 5,
   "metadata": {},
   "outputs": [
    {
     "name": "stdout",
     "output_type": "stream",
     "text": [
      "3718\n",
      "196\n"
     ]
    }
   ],
   "source": [
    "#set the random seed\n",
    "random.seed(1234)\n",
    "\n",
    "#Divide the data into training and test sets\n",
    "train_set , test_set = train_test_split(nltk_data , train_size=0.95)\n",
    "\n",
    "#Get the length of training and test sets\n",
    "print(len(train_set))\n",
    "print(len(test_set))"
   ]
  },
  {
   "cell_type": "code",
   "execution_count": 6,
   "metadata": {},
   "outputs": [
    {
     "data": {
      "text/plain": [
       "95282"
      ]
     },
     "execution_count": 6,
     "metadata": {},
     "output_type": "execute_result"
    }
   ],
   "source": [
    "# Getting list of tagged words in training set\n",
    "train_tagged_words = [tup for sent in train_set for tup in sent]\n",
    "\n",
    "#Get the length of the total tagged words in training set\n",
    "len(train_tagged_words)"
   ]
  },
  {
   "cell_type": "code",
   "execution_count": 7,
   "metadata": {},
   "outputs": [
    {
     "data": {
      "text/plain": [
       "['The',\n",
       " 'three',\n",
       " 'Japanese',\n",
       " 'companies',\n",
       " 'build',\n",
       " 'the',\n",
       " 'body',\n",
       " 'sections',\n",
       " 'of',\n",
       " 'the']"
      ]
     },
     "execution_count": 7,
     "metadata": {},
     "output_type": "execute_result"
    }
   ],
   "source": [
    "# View the first 10 tokens/words in the training set\n",
    "tokens = [pair[0] for pair in train_tagged_words]\n",
    "tokens[:10]"
   ]
  },
  {
   "cell_type": "code",
   "execution_count": 8,
   "metadata": {},
   "outputs": [
    {
     "data": {
      "text/plain": [
       "12037"
      ]
     },
     "execution_count": 8,
     "metadata": {},
     "output_type": "execute_result"
    }
   ],
   "source": [
    "# Get the total unique words in the training set\n",
    "V = set(tokens)\n",
    "len(V)"
   ]
  },
  {
   "cell_type": "code",
   "execution_count": 9,
   "metadata": {
    "scrolled": true
   },
   "outputs": [
    {
     "name": "stdout",
     "output_type": "stream",
     "text": [
      "12\n",
      "{'X', 'NUM', 'DET', 'PRON', 'NOUN', '.', 'ADP', 'VERB', 'PRT', 'ADJ', 'CONJ', 'ADV'}\n"
     ]
    }
   ],
   "source": [
    "# number of pos tags in the training corpus\n",
    "T = set([pair[1] for pair in train_tagged_words])\n",
    "print(len(T))\n",
    "print(T)"
   ]
  },
  {
   "cell_type": "markdown",
   "metadata": {},
   "source": [
    "`As expected there are 12 tags which are part of universal tagset.`"
   ]
  },
  {
   "cell_type": "markdown",
   "metadata": {},
   "source": [
    "### Build the vanilla Viterbi based POS tagger"
   ]
  },
  {
   "cell_type": "code",
   "execution_count": 10,
   "metadata": {},
   "outputs": [],
   "source": [
    "# Create numpy array of no of pos tags by total vocabulary\n",
    "t = len(T)\n",
    "v = len(V)\n",
    "w_given_t=np.zeros((t,v))"
   ]
  },
  {
   "cell_type": "code",
   "execution_count": 11,
   "metadata": {},
   "outputs": [],
   "source": [
    "# compute word given tag: Emission Probability\n",
    "def word_given_tag(word, tag, train_bag = train_tagged_words):\n",
    "    tag_list = [pair for pair in train_bag if pair[1]==tag]\n",
    "    count_tag = len(tag_list)\n",
    "    w_given_tag_list = [pair[0] for pair in tag_list if pair[0]==word]\n",
    "    count_w_given_tag = len(w_given_tag_list)\n",
    "    \n",
    "    return (count_w_given_tag, count_tag)"
   ]
  },
  {
   "cell_type": "code",
   "execution_count": 12,
   "metadata": {},
   "outputs": [],
   "source": [
    "# compute tag given tag: tag2(t2) given tag1 (t1), i.e. Transition Probability\n",
    "\n",
    "def t2_given_t1(t2, t1, train_bag = train_tagged_words):\n",
    "    tags = [pair[1] for pair in train_bag]\n",
    "    count_t1 = len([t for t in tags if t==t1])\n",
    "    count_t2_t1 = 0\n",
    "    for index in range(len(tags)-1):\n",
    "        if tags[index]==t1 and tags[index+1] == t2:\n",
    "            count_t2_t1 += 1\n",
    "    return (count_t2_t1, count_t1)"
   ]
  },
  {
   "cell_type": "code",
   "execution_count": 13,
   "metadata": {},
   "outputs": [],
   "source": [
    "# creating t x t (pos tags x pos tags)transition matrix of tags\n",
    "# each column is t2, each row is t1\n",
    "# thus M(i, j) represents P(tj given ti)\n",
    "\n",
    "tags_matrix = np.zeros((len(T), len(T)), dtype='float32')\n",
    "for i, t1 in enumerate(list(T)):\n",
    "    for j, t2 in enumerate(list(T)): \n",
    "        tags_matrix[i, j] = t2_given_t1(t2, t1)[0]/t2_given_t1(t2, t1)[1]"
   ]
  },
  {
   "cell_type": "code",
   "execution_count": 14,
   "metadata": {},
   "outputs": [
    {
     "data": {
      "text/html": [
       "<div>\n",
       "<style scoped>\n",
       "    .dataframe tbody tr th:only-of-type {\n",
       "        vertical-align: middle;\n",
       "    }\n",
       "\n",
       "    .dataframe tbody tr th {\n",
       "        vertical-align: top;\n",
       "    }\n",
       "\n",
       "    .dataframe thead th {\n",
       "        text-align: right;\n",
       "    }\n",
       "</style>\n",
       "<table border=\"1\" class=\"dataframe\">\n",
       "  <thead>\n",
       "    <tr style=\"text-align: right;\">\n",
       "      <th></th>\n",
       "      <th>X</th>\n",
       "      <th>NUM</th>\n",
       "      <th>DET</th>\n",
       "      <th>PRON</th>\n",
       "      <th>NOUN</th>\n",
       "      <th>.</th>\n",
       "      <th>ADP</th>\n",
       "      <th>VERB</th>\n",
       "      <th>PRT</th>\n",
       "      <th>ADJ</th>\n",
       "      <th>CONJ</th>\n",
       "      <th>ADV</th>\n",
       "    </tr>\n",
       "  </thead>\n",
       "  <tbody>\n",
       "    <tr>\n",
       "      <th>X</th>\n",
       "      <td>0.074133</td>\n",
       "      <td>0.002876</td>\n",
       "      <td>0.055280</td>\n",
       "      <td>0.054961</td>\n",
       "      <td>0.060393</td>\n",
       "      <td>0.164403</td>\n",
       "      <td>0.146509</td>\n",
       "      <td>0.206103</td>\n",
       "      <td>0.182937</td>\n",
       "      <td>0.016776</td>\n",
       "      <td>0.009906</td>\n",
       "      <td>0.025723</td>\n",
       "    </tr>\n",
       "    <tr>\n",
       "      <th>NUM</th>\n",
       "      <td>0.203621</td>\n",
       "      <td>0.185515</td>\n",
       "      <td>0.003859</td>\n",
       "      <td>0.001187</td>\n",
       "      <td>0.355595</td>\n",
       "      <td>0.118136</td>\n",
       "      <td>0.034728</td>\n",
       "      <td>0.018106</td>\n",
       "      <td>0.028495</td>\n",
       "      <td>0.034135</td>\n",
       "      <td>0.013654</td>\n",
       "      <td>0.002968</td>\n",
       "    </tr>\n",
       "    <tr>\n",
       "      <th>DET</th>\n",
       "      <td>0.046334</td>\n",
       "      <td>0.022744</td>\n",
       "      <td>0.005686</td>\n",
       "      <td>0.003266</td>\n",
       "      <td>0.637430</td>\n",
       "      <td>0.017784</td>\n",
       "      <td>0.009315</td>\n",
       "      <td>0.038834</td>\n",
       "      <td>0.000242</td>\n",
       "      <td>0.204936</td>\n",
       "      <td>0.000484</td>\n",
       "      <td>0.012945</td>\n",
       "    </tr>\n",
       "    <tr>\n",
       "      <th>PRON</th>\n",
       "      <td>0.092320</td>\n",
       "      <td>0.006594</td>\n",
       "      <td>0.010085</td>\n",
       "      <td>0.008146</td>\n",
       "      <td>0.207137</td>\n",
       "      <td>0.040729</td>\n",
       "      <td>0.020946</td>\n",
       "      <td>0.490303</td>\n",
       "      <td>0.012413</td>\n",
       "      <td>0.071761</td>\n",
       "      <td>0.005431</td>\n",
       "      <td>0.034135</td>\n",
       "    </tr>\n",
       "    <tr>\n",
       "      <th>NOUN</th>\n",
       "      <td>0.029092</td>\n",
       "      <td>0.009636</td>\n",
       "      <td>0.013190</td>\n",
       "      <td>0.004690</td>\n",
       "      <td>0.263877</td>\n",
       "      <td>0.239182</td>\n",
       "      <td>0.177518</td>\n",
       "      <td>0.147694</td>\n",
       "      <td>0.043821</td>\n",
       "      <td>0.012274</td>\n",
       "      <td>0.042282</td>\n",
       "      <td>0.016744</td>\n",
       "    </tr>\n",
       "    <tr>\n",
       "      <th>.</th>\n",
       "      <td>0.026758</td>\n",
       "      <td>0.079732</td>\n",
       "      <td>0.173929</td>\n",
       "      <td>0.067167</td>\n",
       "      <td>0.221479</td>\n",
       "      <td>0.092298</td>\n",
       "      <td>0.091575</td>\n",
       "      <td>0.089857</td>\n",
       "      <td>0.002531</td>\n",
       "      <td>0.043934</td>\n",
       "      <td>0.058489</td>\n",
       "      <td>0.052161</td>\n",
       "    </tr>\n",
       "    <tr>\n",
       "      <th>ADP</th>\n",
       "      <td>0.035192</td>\n",
       "      <td>0.063346</td>\n",
       "      <td>0.324411</td>\n",
       "      <td>0.068999</td>\n",
       "      <td>0.321105</td>\n",
       "      <td>0.038605</td>\n",
       "      <td>0.017383</td>\n",
       "      <td>0.008532</td>\n",
       "      <td>0.001493</td>\n",
       "      <td>0.106644</td>\n",
       "      <td>0.000853</td>\n",
       "      <td>0.013437</td>\n",
       "    </tr>\n",
       "    <tr>\n",
       "      <th>VERB</th>\n",
       "      <td>0.219163</td>\n",
       "      <td>0.023176</td>\n",
       "      <td>0.132758</td>\n",
       "      <td>0.034375</td>\n",
       "      <td>0.111448</td>\n",
       "      <td>0.035153</td>\n",
       "      <td>0.091538</td>\n",
       "      <td>0.168533</td>\n",
       "      <td>0.031342</td>\n",
       "      <td>0.064785</td>\n",
       "      <td>0.005444</td>\n",
       "      <td>0.082283</td>\n",
       "    </tr>\n",
       "    <tr>\n",
       "      <th>PRT</th>\n",
       "      <td>0.013816</td>\n",
       "      <td>0.058553</td>\n",
       "      <td>0.100329</td>\n",
       "      <td>0.017763</td>\n",
       "      <td>0.249013</td>\n",
       "      <td>0.044408</td>\n",
       "      <td>0.021382</td>\n",
       "      <td>0.397697</td>\n",
       "      <td>0.001645</td>\n",
       "      <td>0.083224</td>\n",
       "      <td>0.001974</td>\n",
       "      <td>0.010197</td>\n",
       "    </tr>\n",
       "    <tr>\n",
       "      <th>ADJ</th>\n",
       "      <td>0.020678</td>\n",
       "      <td>0.020678</td>\n",
       "      <td>0.004963</td>\n",
       "      <td>0.000662</td>\n",
       "      <td>0.697436</td>\n",
       "      <td>0.065509</td>\n",
       "      <td>0.078908</td>\n",
       "      <td>0.011911</td>\n",
       "      <td>0.010918</td>\n",
       "      <td>0.066501</td>\n",
       "      <td>0.016873</td>\n",
       "      <td>0.004963</td>\n",
       "    </tr>\n",
       "    <tr>\n",
       "      <th>CONJ</th>\n",
       "      <td>0.008439</td>\n",
       "      <td>0.041725</td>\n",
       "      <td>0.118612</td>\n",
       "      <td>0.057196</td>\n",
       "      <td>0.353024</td>\n",
       "      <td>0.036099</td>\n",
       "      <td>0.053446</td>\n",
       "      <td>0.158931</td>\n",
       "      <td>0.005157</td>\n",
       "      <td>0.112049</td>\n",
       "      <td>0.000469</td>\n",
       "      <td>0.054852</td>\n",
       "    </tr>\n",
       "    <tr>\n",
       "      <th>ADV</th>\n",
       "      <td>0.021652</td>\n",
       "      <td>0.030646</td>\n",
       "      <td>0.070620</td>\n",
       "      <td>0.013991</td>\n",
       "      <td>0.030646</td>\n",
       "      <td>0.137242</td>\n",
       "      <td>0.119254</td>\n",
       "      <td>0.343105</td>\n",
       "      <td>0.013991</td>\n",
       "      <td>0.132578</td>\n",
       "      <td>0.006329</td>\n",
       "      <td>0.079947</td>\n",
       "    </tr>\n",
       "  </tbody>\n",
       "</table>\n",
       "</div>"
      ],
      "text/plain": [
       "             X       NUM       DET      PRON      NOUN         .       ADP  \\\n",
       "X     0.074133  0.002876  0.055280  0.054961  0.060393  0.164403  0.146509   \n",
       "NUM   0.203621  0.185515  0.003859  0.001187  0.355595  0.118136  0.034728   \n",
       "DET   0.046334  0.022744  0.005686  0.003266  0.637430  0.017784  0.009315   \n",
       "PRON  0.092320  0.006594  0.010085  0.008146  0.207137  0.040729  0.020946   \n",
       "NOUN  0.029092  0.009636  0.013190  0.004690  0.263877  0.239182  0.177518   \n",
       ".     0.026758  0.079732  0.173929  0.067167  0.221479  0.092298  0.091575   \n",
       "ADP   0.035192  0.063346  0.324411  0.068999  0.321105  0.038605  0.017383   \n",
       "VERB  0.219163  0.023176  0.132758  0.034375  0.111448  0.035153  0.091538   \n",
       "PRT   0.013816  0.058553  0.100329  0.017763  0.249013  0.044408  0.021382   \n",
       "ADJ   0.020678  0.020678  0.004963  0.000662  0.697436  0.065509  0.078908   \n",
       "CONJ  0.008439  0.041725  0.118612  0.057196  0.353024  0.036099  0.053446   \n",
       "ADV   0.021652  0.030646  0.070620  0.013991  0.030646  0.137242  0.119254   \n",
       "\n",
       "          VERB       PRT       ADJ      CONJ       ADV  \n",
       "X     0.206103  0.182937  0.016776  0.009906  0.025723  \n",
       "NUM   0.018106  0.028495  0.034135  0.013654  0.002968  \n",
       "DET   0.038834  0.000242  0.204936  0.000484  0.012945  \n",
       "PRON  0.490303  0.012413  0.071761  0.005431  0.034135  \n",
       "NOUN  0.147694  0.043821  0.012274  0.042282  0.016744  \n",
       ".     0.089857  0.002531  0.043934  0.058489  0.052161  \n",
       "ADP   0.008532  0.001493  0.106644  0.000853  0.013437  \n",
       "VERB  0.168533  0.031342  0.064785  0.005444  0.082283  \n",
       "PRT   0.397697  0.001645  0.083224  0.001974  0.010197  \n",
       "ADJ   0.011911  0.010918  0.066501  0.016873  0.004963  \n",
       "CONJ  0.158931  0.005157  0.112049  0.000469  0.054852  \n",
       "ADV   0.343105  0.013991  0.132578  0.006329  0.079947  "
      ]
     },
     "execution_count": 14,
     "metadata": {},
     "output_type": "execute_result"
    }
   ],
   "source": [
    "# convert the matrix to a df for better readability\n",
    "tags_df = pd.DataFrame(tags_matrix, columns = list(T), index=list(T))\n",
    "tags_df"
   ]
  },
  {
   "cell_type": "code",
   "execution_count": 15,
   "metadata": {},
   "outputs": [
    {
     "data": {
      "image/png": "[encoded data removed]",
      "text/plain": [
       "<Figure size 1296x864 with 2 Axes>"
      ]
     },
     "metadata": {
      "needs_background": "light"
     },
     "output_type": "display_data"
    }
   ],
   "source": [
    "# heatmap of tags matrix\n",
    "# T(i, j) indicates P(tag j given tag i)\n",
    "plt.figure(figsize=(18, 12))\n",
    "sns.heatmap(tags_df)\n",
    "plt.show()"
   ]
  },
  {
   "cell_type": "code",
   "execution_count": 16,
   "metadata": {
    "scrolled": true
   },
   "outputs": [
    {
     "data": {
      "image/png": "[encoded data removed]",
      "text/plain": [
       "<Figure size 1296x864 with 2 Axes>"
      ]
     },
     "metadata": {
      "needs_background": "light"
     },
     "output_type": "display_data"
    }
   ],
   "source": [
    "# frequent tags\n",
    "# filter the df to get P(t2, t1) > 0.5\n",
    "tags_frequent = tags_df[tags_df>0.5]\n",
    "plt.figure(figsize=(18, 12))\n",
    "sns.heatmap(tags_frequent)\n",
    "plt.show()"
   ]
  },
  {
   "cell_type": "markdown",
   "metadata": {},
   "source": [
    "`Clearly as expected Noun and Adjective and Noun and Determinent are highly correlated. Most often nouns are followed by adjectives and detectives.`"
   ]
  },
  {
   "cell_type": "code",
   "execution_count": 17,
   "metadata": {},
   "outputs": [
    {
     "data": {
      "text/plain": [
       "95282"
      ]
     },
     "execution_count": 17,
     "metadata": {},
     "output_type": "execute_result"
    }
   ],
   "source": [
    "#Get the total length of tagged words in training corpus\n",
    "len(train_tagged_words)"
   ]
  },
  {
   "cell_type": "code",
   "execution_count": 18,
   "metadata": {},
   "outputs": [],
   "source": [
    "# Viterbi Heuristic\n",
    "def Viterbi(words, train_bag = train_tagged_words):\n",
    "    state = []\n",
    "    T = list(set([pair[1] for pair in train_bag]))\n",
    "    \n",
    "    for key, word in enumerate(words):\n",
    "        #initialise list of probability column for a given observation\n",
    "        p = [] \n",
    "        for tag in T:\n",
    "            if key == 0:\n",
    "                transition_p = tags_df.loc['.', tag]\n",
    "            else:\n",
    "                transition_p = tags_df.loc[state[-1], tag]\n",
    "                \n",
    "            # compute emission and state probabilities\n",
    "            emission_p = word_given_tag(words[key], tag)[0]/word_given_tag(words[key], tag)[1]\n",
    "            state_probability = emission_p * transition_p    \n",
    "            p.append(state_probability)\n",
    "            \n",
    "        pmax = max(p)\n",
    "        # getting state for which probability is maximum\n",
    "        state_max = T[p.index(pmax)] \n",
    "        state.append(state_max)\n",
    "    return list(zip(words, state))"
   ]
  },
  {
   "cell_type": "code",
   "execution_count": 19,
   "metadata": {},
   "outputs": [],
   "source": [
    "# Running on entire test dataset would take more than 3-4hrs. \n",
    "# Let's test our Viterbi algorithm on a few sample sentences of test dataset\n",
    "\n",
    "\n",
    "# list of tagged words in test set\n",
    "test_run_base = [tup for sent in test_set for tup in sent]\n",
    "\n",
    "# list of  words which are untagged in test set\n",
    "test_tagged_words = [tup[0] for sent in test_set for tup in sent]"
   ]
  },
  {
   "cell_type": "code",
   "execution_count": 20,
   "metadata": {},
   "outputs": [],
   "source": [
    "# tagging the test sentences\n",
    "start = time.time()\n",
    "tagged_seq = Viterbi(test_tagged_words)\n",
    "end = time.time()\n",
    "difference = end-start"
   ]
  },
  {
   "cell_type": "code",
   "execution_count": 22,
   "metadata": {
    "scrolled": true
   },
   "outputs": [
    {
     "name": "stdout",
     "output_type": "stream",
     "text": [
      "2234.758689880371\n"
     ]
    }
   ],
   "source": [
    "#Print total time taken to train the algorithm\n",
    "print(difference)"
   ]
  },
  {
   "cell_type": "code",
   "execution_count": 23,
   "metadata": {},
   "outputs": [
    {
     "name": "stdout",
     "output_type": "stream",
     "text": [
      "0.9058212829069336\n"
     ]
    }
   ],
   "source": [
    "# Get accuracy of model\n",
    "check = [i for i, j in zip(tagged_seq, test_run_base) if i == j] \n",
    "accuracy = len(check)/len(tagged_seq)\n",
    "print(accuracy)"
   ]
  },
  {
   "cell_type": "markdown",
   "metadata": {},
   "source": [
    "We get around 90% of accuracy with the default Viterbi algorithm.\n",
    "\n",
    "Let's compare with the test sentences and see how it tagged the sentences."
   ]
  },
  {
   "cell_type": "code",
   "execution_count": 24,
   "metadata": {},
   "outputs": [
    {
     "name": "stdout",
     "output_type": "stream",
     "text": [
      "Android is a mobile operating system developed by Google.\r\n",
      "\n",
      "Android has been the best-selling OS worldwide on smartphones since 2011 and on tablets since 2013.\r\n",
      "\n",
      "Google and Twitter made a deal in 2015 that gave Google access to Twitter's firehose.\r\n",
      "\n",
      "Twitter is an online news and social networking service on which users post and interact with messages known as tweets.\r\n",
      "\n",
      "Before entering politics, Donald Trump was a domineering businessman and a television personality.\r\n",
      "\n",
      "The 2018 FIFA World Cup is the 21st FIFA World Cup, an international football tournament contested once every four years.\r\n",
      "\n",
      "This is the first World Cup to be held in Eastern Europe and the 11th time that it has been held in Europe.\r\n",
      "\n",
      "Show me the cheapest round trips from Dallas to Atlanta\r\n",
      "\n",
      "I would like to see flights from Denver to Philadelphia.\r\n",
      "\n",
      "Show me the price of the flights leaving Atlanta at about 3 in the afternoon and arriving in San Francisco.\r\n",
      "\n",
      "NASA invited social media users to experience the launch of ICESAT-2 Satellite.\r\n",
      "\n",
      "\r\n",
      "\n",
      "\r\n",
      "\n",
      "\r\n",
      "\n"
     ]
    }
   ],
   "source": [
    "#Read the text file\n",
    "lines=[]\n",
    "f = codecs.open(\"Test_sentences.txt\", encoding='utf-8')\n",
    "for line in f:\n",
    "    print(line)\n",
    "    lines.append(line)"
   ]
  },
  {
   "cell_type": "markdown",
   "metadata": {},
   "source": [
    "### Solve the problem of unknown words"
   ]
  },
  {
   "cell_type": "code",
   "execution_count": 25,
   "metadata": {},
   "outputs": [
    {
     "data": {
      "text/plain": [
       "['Android is a mobile operating system developed by Google.\\r\\n',\n",
       " 'Android has been the best-selling OS worldwide on smartphones since 2011 and on tablets since 2013.\\r\\n',\n",
       " \"Google and Twitter made a deal in 2015 that gave Google access to Twitter's firehose.\\r\\n\",\n",
       " 'Twitter is an online news and social networking service on which users post and interact with messages known as tweets.\\r\\n',\n",
       " 'Before entering politics, Donald Trump was a domineering businessman and a television personality.\\r\\n',\n",
       " 'The 2018 FIFA World Cup is the 21st FIFA World Cup, an international football tournament contested once every four years.\\r\\n',\n",
       " 'This is the first World Cup to be held in Eastern Europe and the 11th time that it has been held in Europe.\\r\\n',\n",
       " 'Show me the cheapest round trips from Dallas to Atlanta\\r\\n',\n",
       " 'I would like to see flights from Denver to Philadelphia.\\r\\n',\n",
       " 'Show me the price of the flights leaving Atlanta at about 3 in the afternoon and arriving in San Francisco.\\r\\n',\n",
       " 'NASA invited social media users to experience the launch of ICESAT-2 Satellite.\\r\\n',\n",
       " '\\r\\n',\n",
       " '\\r\\n',\n",
       " '\\r\\n']"
      ]
     },
     "execution_count": 25,
     "metadata": {},
     "output_type": "execute_result"
    }
   ],
   "source": [
    "lines"
   ]
  },
  {
   "cell_type": "code",
   "execution_count": 26,
   "metadata": {},
   "outputs": [
    {
     "data": {
      "text/plain": [
       "['Android is a mobile operating system developed by Google.',\n",
       " 'Android has been the best-selling OS worldwide on smartphones since 2011 and on tablets since 2013.',\n",
       " \"Google and Twitter made a deal in 2015 that gave Google access to Twitter's firehose.\",\n",
       " 'Twitter is an online news and social networking service on which users post and interact with messages known as tweets.',\n",
       " 'Before entering politics, Donald Trump was a domineering businessman and a television personality.',\n",
       " 'The 2018 FIFA World Cup is the 21st FIFA World Cup, an international football tournament contested once every four years.',\n",
       " 'This is the first World Cup to be held in Eastern Europe and the 11th time that it has been held in Europe.',\n",
       " 'Show me the cheapest round trips from Dallas to Atlanta',\n",
       " 'I would like to see flights from Denver to Philadelphia.',\n",
       " 'Show me the price of the flights leaving Atlanta at about 3 in the afternoon and arriving in San Francisco.',\n",
       " 'NASA invited social media users to experience the launch of ICESAT-2 Satellite.']"
      ]
     },
     "execution_count": 26,
     "metadata": {},
     "output_type": "execute_result"
    }
   ],
   "source": [
    "#Strip the special characters and empty strings in the list file\n",
    "test_lines =[sent.rstrip() for sent in lines if sent.rstrip()!='']\n",
    "test_lines"
   ]
  },
  {
   "cell_type": "code",
   "execution_count": 27,
   "metadata": {},
   "outputs": [
    {
     "data": {
      "text/plain": [
       "[[('turning', 'VERB'), (('in', 'ADP'), ('in', 'PRT'))],\n",
       " [('electronic', 'ADJ'), (('giveaways', 'X'), ('giveaways', 'NOUN'))],\n",
       " [('to', 'PRT'), (('subscribers', 'X'), ('subscribers', 'NOUN'))],\n",
       " [('as', 'ADP'), (('telephones', 'X'), ('telephones', 'NOUN'))],\n",
       " [('the', 'DET'), (('more-advanced', 'X'), ('more-advanced', 'ADJ'))],\n",
       " [('more-advanced', 'ADJ'), (('Intel', 'X'), ('Intel', 'NOUN'))],\n",
       " [('Corp.', 'NOUN'), (('386', 'X'), ('386', 'NUM'))],\n",
       " [('386', 'NUM'), (('microprocessor', 'X'), ('microprocessor', 'NOUN'))],\n",
       " [('four', 'NUM'), (('megabytes', 'X'), ('megabytes', 'NOUN'))],\n",
       " [('a', 'DET'), (('100-megabyte', 'X'), ('100-megabyte', 'ADJ'))],\n",
       " [('100-megabyte', 'ADJ'), (('hard', 'ADV'), ('hard', 'ADJ'))],\n",
       " [('$', '.'), (('5,699', 'X'), ('5,699', 'NUM'))],\n",
       " [('$', '.'), (('6,799', 'X'), ('6,799', 'NUM'))],\n",
       " [('is', 'VERB'), (('sparking', 'X'), ('sparking', 'VERB'))],\n",
       " [('and', 'CONJ'), (('posing', 'X'), ('posing', 'VERB'))],\n",
       " [('Or', 'CONJ'), (('so', 'ADV'), ('so', 'ADP'))],\n",
       " [('the', 'DET'), (('slogan', 'X'), ('slogan', 'NOUN'))],\n",
       " [('be', 'VERB'), (('scared', 'ADJ'), ('scared', 'VERB'))],\n",
       " [('*-83', 'X'), (('away', 'PRT'), ('away', 'ADV'))],\n",
       " [('Poore', 'NOUN'), (('replies', 'NOUN'), ('replies', 'VERB'))],\n",
       " [('$', '.'), (('225.6', 'X'), ('225.6', 'NUM'))],\n",
       " [('.', '.'), (('Long-term', 'X'), ('Long-term', 'ADJ'))],\n",
       " [('*T*-2', 'X'), (('Makato', 'X'), ('Makato', 'NOUN'))],\n",
       " [('Makato', 'NOUN'), (('Utsumi', 'X'), ('Utsumi', 'NOUN'))],\n",
       " [('Michael', 'NOUN'), (('Henderson', 'X'), ('Henderson', 'NOUN'))],\n",
       " [(',', '.'), (('51-year-old', 'X'), ('51-year-old', 'ADJ'))],\n",
       " [('succeeding', 'VERB'), (('Ian', 'X'), ('Ian', 'NOUN'))],\n",
       " [('is', 'VERB'), (('retiring', 'X'), ('retiring', 'VERB'))],\n",
       " [('proposed', 'VERB'), (('pact', 'X'), ('pact', 'NOUN'))],\n",
       " [('was', 'VERB'), (('230-215', 'X'), ('230-215', 'NUM'))],\n",
       " [('of', 'ADP'), (('Mount', 'X'), ('Mount', 'NOUN'))],\n",
       " [('Mount', 'NOUN'), (('Clemens', 'X'), ('Clemens', 'NOUN'))],\n",
       " [('Rep.', 'NOUN'), (('Marge', 'X'), ('Marge', 'NOUN'))],\n",
       " [('GOP', 'NOUN'), (('administrations', 'X'), ('administrations', 'NOUN'))],\n",
       " [(',', '.'), (('then-Speaker', 'X'), ('then-Speaker', 'ADJ'))],\n",
       " [('with', 'ADP'), (('Mikhail', 'X'), ('Mikhail', 'NOUN'))],\n",
       " [('to', 'PRT'), (('direct', 'ADJ'), ('direct', 'VERB'))],\n",
       " [('had', 'VERB'), (('ratified', 'X'), ('ratified', 'VERB'))],\n",
       " [('ratified', 'VERB'), (('SALT', 'X'), ('SALT', 'NOUN'))],\n",
       " [('his', 'PRON'), (('routine', 'ADJ'), ('routine', 'NOUN'))],\n",
       " [('.', '.'), (('Dreyfus', 'X'), ('Dreyfus', 'NOUN'))],\n",
       " [('Dreyfus', 'NOUN'), (('World-Wide', 'X'), ('World-Wide', 'NOUN'))],\n",
       " [('World-Wide', 'NOUN'), (('Dollar', 'X'), ('Dollar', 'NOUN'))],\n",
       " [('the', 'DET'), (('top-yielding', 'X'), ('top-yielding', 'ADJ'))],\n",
       " [('top-yielding', 'ADJ'), (('fund', 'VERB'), ('fund', 'NOUN'))],\n",
       " [('compound', 'NOUN'), (('yield', 'VERB'), ('yield', 'NOUN'))],\n",
       " [('of', 'ADP'), (('9.37', 'X'), ('9.37', 'NUM'))],\n",
       " [('from', 'ADP'), (('9.45', 'X'), ('9.45', 'NUM'))],\n",
       " [('week', 'NOUN'), (('earlier', 'ADV'), ('earlier', 'ADJ'))],\n",
       " [('*', 'X'), (('Filling', 'X'), ('Filling', 'VERB'))],\n",
       " [('out', 'PRT'), (('detailed', 'VERB'), ('detailed', 'ADJ'))],\n",
       " [('would', 'VERB'), (('tip', 'X'), ('tip', 'VERB'))],\n",
       " [('from', 'ADP'), (('Sheffield', 'X'), ('Sheffield', 'NOUN'))],\n",
       " [('of', 'ADP'), (('ringing', 'NOUN'), ('ringing', 'VERB'))],\n",
       " [('to', 'PRT'), (('faint', 'X'), ('faint', 'VERB'))],\n",
       " [('J.', 'NOUN'), (('Landis', 'X'), ('Landis', 'NOUN'))],\n",
       " [('and', 'CONJ'), (('chief', 'NOUN'), ('chief', 'ADJ'))],\n",
       " [('transaction', 'NOUN'), (('that', 'ADP'), ('that', 'DET'))],\n",
       " [('included', 'VERB'), (('about', 'ADP'), ('about', 'ADV'))],\n",
       " [('Peter', 'NOUN'), (('Holland', 'X'), ('Holland', 'NOUN'))],\n",
       " [(',', '.'), (('deputy', 'NOUN'), ('deputy', 'ADJ'))],\n",
       " [('Israel', 'NOUN'), (('Silverman', 'X'), ('Silverman', 'NOUN'))],\n",
       " [('an', 'DET'), (('insurance-company', 'X'), ('insurance-company', 'NOUN'))],\n",
       " [(',', '.'), (('comments', 'NOUN'), ('comments', 'VERB'))],\n",
       " [('``', '.'), (('increases', 'NOUN'), ('increases', 'VERB'))],\n",
       " [(\"'s\", 'PRT'), (('grand', 'X'), ('grand', 'ADJ'))],\n",
       " [('are', 'VERB'), (('prohibited', 'X'), ('prohibited', 'VERB'))],\n",
       " [('of', 'ADP'), (('ethics', 'X'), ('ethics', 'NOUN'))],\n",
       " [('*-1', 'X'), (('disclosing', 'X'), ('disclosing', 'VERB'))],\n",
       " [('court', 'NOUN'), (('orders', 'NOUN'), ('orders', 'VERB'))],\n",
       " [('*-4', 'X'), (('committing', 'X'), ('committing', 'VERB'))],\n",
       " [('act', 'NOUN'), (('that', 'ADP'), ('that', 'DET'))],\n",
       " [(',', '.'), (('yet', 'ADV'), ('yet', 'CONJ'))],\n",
       " [('the', 'DET'), (('past', 'ADJ'), ('past', 'NOUN'))],\n",
       " [('Co.', 'NOUN'), (('that', 'ADP'), ('that', 'DET'))],\n",
       " [('Van', 'NOUN'), (('Alstyne', 'X'), ('Alstyne', 'NOUN'))],\n",
       " [('Alstyne', 'NOUN'), (('notes', 'NOUN'), ('notes', 'VERB'))],\n",
       " [('bad', 'ADJ'), (('apple', 'X'), ('apple', 'NOUN'))],\n",
       " [('his', 'PRON'), (('apples', 'X'), ('apples', 'NOUN'))],\n",
       " [('the', 'DET'), (('past', 'ADJ'), ('past', 'NOUN'))],\n",
       " [('$', '.'), (('98.3', 'X'), ('98.3', 'NUM'))],\n",
       " [('*U*', 'X'), (('promissory', 'X'), ('promissory', 'ADJ'))],\n",
       " [('promissory', 'ADJ'), (('note', 'VERB'), ('note', 'NOUN'))],\n",
       " [('will', 'VERB'), (('complicate', 'X'), ('complicate', 'VERB'))],\n",
       " [('*T*-42', 'X'), (('saved', 'X'), ('saved', 'VERB'))],\n",
       " [('to', 'PRT'), (('reclaim', 'X'), ('reclaim', 'VERB'))],\n",
       " [('``', '.'), (('mortgaged', 'X'), ('mortgaged', 'VERB'))],\n",
       " [('under', 'ADP'), (('price-support', 'X'), ('price-support', 'ADJ'))],\n",
       " [('several', 'ADJ'), (('youthful', 'X'), ('youthful', 'ADJ'))],\n",
       " [(\"'s\", 'PRT'), (('brat', 'X'), ('brat', 'NOUN'))],\n",
       " [('brat', 'NOUN'), (('pack', 'X'), ('pack', 'NOUN'))],\n",
       " [('are', 'VERB'), (('dominating', 'X'), ('dominating', 'VERB'))],\n",
       " [('the', 'DET'), (('best-seller', 'X'), ('best-seller', 'NOUN'))],\n",
       " [('best-seller', 'NOUN'), (('charts', 'X'), ('charts', 'NOUN'))],\n",
       " [('*-2', 'X'), (('clear', 'ADJ'), ('clear', 'VERB'))],\n",
       " [('the', 'DET'), (('myriad', 'X'), ('myriad', 'ADJ'))],\n",
       " [('to', 'PRT'), (('penetrate', 'X'), ('penetrate', 'VERB'))],\n",
       " [(',', '.'), (('tiny', 'X'), ('tiny', 'ADJ'))],\n",
       " [('largest', 'ADJ'), (('trading', 'NOUN'), ('trading', 'VERB'))],\n",
       " [('In', 'ADP'), (('early', 'ADJ'), ('early', 'ADV'))],\n",
       " [('$', '.'), (('374.19', 'X'), ('374.19', 'NUM'))],\n",
       " [('a', 'DET'), (('first-rate', 'X'), ('first-rate', 'ADJ'))],\n",
       " [('trade', 'NOUN'), (('act', 'VERB'), ('act', 'NOUN'))],\n",
       " [('to', 'PRT'), (('issue', 'NOUN'), ('issue', 'VERB'))],\n",
       " [('Richard', 'NOUN'), (('Breeden', 'X'), ('Breeden', 'NOUN'))],\n",
       " [('circuit', 'NOUN'), (('breakers', 'X'), ('breakers', 'NOUN'))],\n",
       " [('breakers', 'NOUN'), (('that', 'ADP'), ('that', 'DET'))],\n",
       " [('Joseph', 'NOUN'), (('Napolitan', 'X'), ('Napolitan', 'NOUN'))],\n",
       " [('to', 'PRT'), (('attack', 'NOUN'), ('attack', 'VERB'))],\n",
       " [('attack', 'VERB'), (('first', 'ADJ'), ('first', 'ADV'))],\n",
       " [(',', '.'), (('last', 'ADJ'), ('last', 'ADV'))],\n",
       " [('its', 'PRON'), (('offer', 'VERB'), ('offer', 'NOUN'))],\n",
       " [('*-2', 'X'), (('agreeing', 'X'), ('agreeing', 'VERB'))],\n",
       " [('already', 'ADV'), (('bans', 'X'), ('bans', 'VERB'))],\n",
       " [('all', 'DET'), (('theaters', 'X'), ('theaters', 'NOUN'))],\n",
       " [(',', '.'), (('hospitals', 'X'), ('hospitals', 'NOUN'))],\n",
       " [('.', '.'), (('Card', 'X'), ('Card', 'NOUN'))],\n",
       " [('a', 'DET'), (('sweepstakes', 'X'), ('sweepstakes', 'NOUN'))],\n",
       " [('is', 'VERB'), (('imperative', 'X'), ('imperative', 'ADJ'))],\n",
       " [('thing', 'NOUN'), (('happened', 'X'), ('happened', 'VERB'))],\n",
       " [('few', 'ADJ'), (('blocks', 'VERB'), ('blocks', 'NOUN'))],\n",
       " [('U.S.', 'NOUN'), (('ambassador', 'X'), ('ambassador', 'NOUN'))],\n",
       " [(\"'s\", 'PRT'), (('residence', 'X'), ('residence', 'NOUN'))],\n",
       " [('guards', 'NOUN'), (('encircling', 'X'), ('encircling', 'VERB'))],\n",
       " [('had', 'VERB'), (('discarded', 'X'), ('discarded', 'VERB'))],\n",
       " [('their', 'PRON'), (('Uzi-model', 'X'), ('Uzi-model', 'ADJ'))],\n",
       " [('greatly', 'ADV'), (('inflated', 'X'), ('inflated', 'VERB'))],\n",
       " [('new', 'ADJ'), (('high', 'ADJ'), ('high', 'NOUN'))],\n",
       " [('Cabernet', 'NOUN'), (('Sauvignon', 'X'), ('Sauvignon', 'NOUN'))],\n",
       " [('``', '.'), (('vague', 'X'), ('vague', 'ADJ'))],\n",
       " [('and', 'CONJ'), (('mushy', 'X'), ('mushy', 'ADJ'))],\n",
       " [(\"''\", '.'), (('that', 'DET'), ('that', 'ADP'))],\n",
       " [('all', 'DET'), (('viewpoints', 'X'), ('viewpoints', 'NOUN'))],\n",
       " [('come', 'VERB'), (('out', 'PRT'), ('out', 'ADV'))],\n",
       " [(\"''\", '.'), (('Phillip', 'X'), ('Phillip', 'NOUN'))],\n",
       " [('Express', 'NOUN'), (('executive', 'NOUN'), ('executive', 'ADJ'))],\n",
       " [('total', 'ADJ'), (('car-care', 'X'), ('car-care', 'ADJ'))],\n",
       " [('and', 'CONJ'), (('reserved', 'X'), ('reserved', 'VERB'))],\n",
       " [('$', '.'), (('227', 'X'), ('227', 'NUM'))],\n",
       " [('due', 'ADJ'), (('1998', 'X'), ('1998', 'NUM'))],\n",
       " [('at', 'ADP'), (('95.09', 'X'), ('95.09', 'NUM'))],\n",
       " [('yield', 'VERB'), (('5.435', 'X'), ('5.435', 'NUM'))],\n",
       " [('convertible', 'ADJ'), (('preferred', 'ADJ'), ('preferred', 'VERB'))],\n",
       " [(\"'s\", 'PRT'), (('eight-person', 'X'), ('eight-person', 'ADJ'))],\n",
       " [('know', 'VERB'), (('better', 'ADV'), ('better', 'ADJ'))],\n",
       " [('$', '.'), (('608,413', 'X'), ('608,413', 'NUM'))],\n",
       " [('$', '.'), (('967,809', 'X'), ('967,809', 'NUM'))],\n",
       " [('*-1', 'X'), (('swapping', 'X'), ('swapping', 'VERB'))],\n",
       " [('.', '.'), (('Personal', 'X'), ('Personal', 'ADJ'))],\n",
       " [('the', 'DET'), (('Intel', 'X'), ('Intel', 'NOUN'))],\n",
       " [('Intel', 'NOUN'), (('286', 'X'), ('286', 'NUM'))],\n",
       " [('and', 'CONJ'), (('386', 'X'), ('386', 'NUM'))],\n",
       " [('386', 'NUM'), (('microprocessors', 'X'), ('microprocessors', 'NOUN'))],\n",
       " [('coming', 'VERB'), (('down', 'ADV'), ('down', 'ADP'))],\n",
       " [('``', '.'), (('Funny', 'ADJ'), ('Funny', 'NOUN'))],\n",
       " [('-LRB-', '.'), (('Soho', 'X'), ('Soho', 'NOUN'))],\n",
       " [('anything', 'NOUN'), (('but', 'CONJ'), ('but', 'ADV'))],\n",
       " [('employs', 'VERB'), (('241', 'X'), ('241', 'NUM'))],\n",
       " [('former', 'ADJ'), (('ratepayers', 'X'), ('ratepayers', 'NOUN'))],\n",
       " [('cost', 'NOUN'), (('overruns', 'X'), ('overruns', 'NOUN'))],\n",
       " [('banks', 'NOUN'), (('exhaust', 'NOUN'), ('exhaust', 'VERB'))],\n",
       " [('all', 'DET'), (('avenues', 'X'), ('avenues', 'NOUN'))],\n",
       " [('the', 'DET'), (('illegality', 'X'), ('illegality', 'NOUN'))],\n",
       " [('ruling', 'NOUN'), (('work', 'NOUN'), ('work', 'VERB'))],\n",
       " [('``', '.'), (('Ideas', 'X'), ('Ideas', 'NOUN'))],\n",
       " [('over', 'ADP'), (('borders', 'X'), ('borders', 'NOUN'))],\n",
       " [('no', 'DET'), (('SDI', 'X'), ('SDI', 'NOUN'))],\n",
       " [('ideological', 'ADJ'), (('weapon', 'X'), ('weapon', 'NOUN'))],\n",
       " [('weapon', 'NOUN'), (('that', 'ADP'), ('that', 'DET'))],\n",
       " [('can', 'VERB'), (('shoot', 'X'), ('shoot', 'VERB'))],\n",
       " [('them', 'PRON'), (('down', 'ADV'), ('down', 'ADP'))],\n",
       " [('Jay', 'NOUN'), (('Goldinger', 'X'), ('Goldinger', 'NOUN'))],\n",
       " [('Capital', 'NOUN'), (('Insight', 'X'), ('Insight', 'NOUN'))],\n",
       " [(',', '.'), (('reasons', 'NOUN'), ('reasons', 'VERB'))],\n",
       " [('yen', 'NOUN'), (('as', 'ADP'), ('as', 'ADV'))],\n",
       " [('--', '.'), (('the', 'DET'), ('the', 'ADJ'))],\n",
       " [('to', 'PRT'), (('77.70', 'X'), ('77.70', 'NUM'))],\n",
       " [('from', 'ADP'), (('77.56', 'X'), ('77.56', 'NUM'))],\n",
       " [('--', '.'), (('the', 'DET'), ('the', 'ADJ'))],\n",
       " [('*-1', 'X'), (('lure', 'VERB'), ('lure', 'NOUN'))],\n",
       " [(',', '.'), (('Coche-Dury', 'X'), ('Coche-Dury', 'NOUN'))],\n",
       " [('1987', 'NUM'),\n",
       "  (('Corton-Charlemagne', 'X'), ('Corton-Charlemagne', 'NOUN'))],\n",
       " [('the', 'DET'), (('Spanish', 'X'), ('Spanish', 'NOUN'))],\n",
       " [('Spanish', 'NOUN'),\n",
       "  (('Renaissance-style', 'X'), ('Renaissance-style', 'ADJ'))],\n",
       " [('Renaissance-style', 'ADJ'), (('building', 'VERB'), ('building', 'NOUN'))],\n",
       " [('of', 'ADP'), (('ingredients', 'X'), ('ingredients', 'NOUN'))],\n",
       " [('business', 'NOUN'), (('as', 'ADP'), ('as', 'ADV'))],\n",
       " [('can', 'VERB'), (('bar', 'NOUN'), ('bar', 'VERB'))],\n",
       " [('programs', 'NOUN'), (('that', 'ADP'), ('that', 'DET'))],\n",
       " [('include', 'VERB'),\n",
       "  (('abortion-related', 'X'), ('abortion-related', 'ADJ'))],\n",
       " [('to', 'PRT'), (('sacrifice', 'X'), ('sacrifice', 'VERB'))],\n",
       " [('.', '.'), (('First', 'NOUN'), ('First', 'ADJ'))],\n",
       " [('of', 'ADP'), (('prepayment', 'X'), ('prepayment', 'NOUN'))],\n",
       " [('rates', 'NOUN'), (('decline', 'NOUN'), ('decline', 'VERB'))],\n",
       " [('such', 'ADJ'), (('prepayment', 'X'), ('prepayment', 'NOUN'))],\n",
       " [('to', 'PRT'), (('redeploy', 'X'), ('redeploy', 'VERB'))],\n",
       " [('have', 'VERB'), (('more', 'ADV'), ('more', 'ADJ'))],\n",
       " [('that', 'DET'), (('permits', 'X'), ('permits', 'VERB'))],\n",
       " [('fourth-quarter', 'NOUN'), (('pre-tax', 'X'), ('pre-tax', 'ADJ'))],\n",
       " [('pre-tax', 'ADJ'), (('charge', 'VERB'), ('charge', 'NOUN'))],\n",
       " [(',', '.'), (('Commodore', 'X'), ('Commodore', 'NOUN'))],\n",
       " [('Commodore', 'NOUN'), (('Pet', 'X'), ('Pet', 'NOUN'))],\n",
       " [('and', 'CONJ'), (('Tandy', 'X'), ('Tandy', 'NOUN'))],\n",
       " [('Tandy', 'NOUN'), (('TRS-80', 'X'), ('TRS-80', 'NOUN'))],\n",
       " [('analysts', 'NOUN'), (('questioned', 'X'), ('questioned', 'VERB'))],\n",
       " [('will', 'VERB'), (('end', 'NOUN'), ('end', 'VERB'))],\n",
       " [('``', '.'), (('Dollar-yen', 'X'), ('Dollar-yen', 'ADJ'))],\n",
       " [('driving', 'VERB'), (('force', 'VERB'), ('force', 'NOUN'))],\n",
       " [('Tom', 'NOUN'), (('Trettien', 'X'), ('Trettien', 'NOUN'))],\n",
       " [('with', 'ADP'), (('Banque', 'X'), ('Banque', 'NOUN'))],\n",
       " [('Banque', 'NOUN'), (('Paribas', 'X'), ('Paribas', 'NOUN'))],\n",
       " [('not', 'ADV'), (('convinced', 'X'), ('convinced', 'VERB'))],\n",
       " [('a', 'DET'), (('subject', 'ADJ'), ('subject', 'NOUN'))],\n",
       " [('$', '.'), (('70.2', 'X'), ('70.2', 'NUM'))],\n",
       " [('of', 'ADP'), (('seafood', 'X'), ('seafood', 'NOUN'))],\n",
       " [('$', '.'), (('81.8', 'X'), ('81.8', 'NUM'))],\n",
       " [('of', 'ADP'), (('7.20', 'X'), ('7.20', 'NUM'))],\n",
       " [('has', 'VERB'), (('nonetheless', 'X'), ('nonetheless', 'ADV'))],\n",
       " [('been', 'VERB'), (('striving', 'X'), ('striving', 'VERB'))],\n",
       " [('colleagues', 'NOUN'), (('dislike', 'NOUN'), ('dislike', 'VERB'))],\n",
       " [('a', 'DET'), (('razor-thin', 'X'), ('razor-thin', 'ADJ'))],\n",
       " [('*-1', 'X'), (('shedding', 'X'), ('shedding', 'VERB'))],\n",
       " [('just', 'ADV'), (('recouped', 'X'), ('recouped', 'VERB'))],\n",
       " [('lost', 'VERB'), (('more', 'ADV'), ('more', 'ADJ'))],\n",
       " [('.', '.'), (('Elisabeth', 'X'), ('Elisabeth', 'NOUN'))],\n",
       " [('Elisabeth', 'NOUN'), (('Rubinfien', 'X'), ('Rubinfien', 'NOUN'))],\n",
       " [('would', 'VERB'), (('assess', 'X'), ('assess', 'VERB'))],\n",
       " [('and', 'CONJ'), (('apparel', 'X'), ('apparel', 'NOUN'))],\n",
       " [('apparel', 'NOUN'), (('trade', 'VERB'), ('trade', 'NOUN'))],\n",
       " [('trade', 'NOUN'), (('agreements', 'X'), ('agreements', 'NOUN'))],\n",
       " [('is', 'VERB'), (('incredible', 'X'), ('incredible', 'ADJ'))],\n",
       " [('*T*-1', 'X'), (('Walt', 'X'), ('Walt', 'NOUN'))],\n",
       " [('Walt', 'NOUN'), (('Haney', 'X'), ('Haney', 'NOUN'))],\n",
       " [('$', '.'), (('1.49', 'X'), ('1.49', 'NUM'))],\n",
       " [('share', 'NOUN'), (('Recently', 'X'), ('Recently', 'ADV'))],\n",
       " [('Drexel', 'NOUN'), (('circulated', 'X'), ('circulated', 'VERB'))],\n",
       " [('has', 'VERB'), (('diminished', 'X'), ('diminished', 'VERB'))],\n",
       " [('was', 'VERB'), (('down', 'ADV'), ('down', 'ADP'))],\n",
       " [('$', '.'), (('5.70', 'X'), ('5.70', 'NUM'))],\n",
       " [('$', '.'), (('494.50', 'X'), ('494.50', 'NUM'))],\n",
       " [('0', 'X'), (('that', 'ADP'), ('that', 'DET'))],\n",
       " [('200', 'NUM'), (('sponsors', 'X'), ('sponsors', 'NOUN'))],\n",
       " [('the', 'DET'), (('homeless', 'ADJ'), ('homeless', 'NOUN'))],\n",
       " [('you', 'PRON'), (('chose', 'X'), ('chose', 'VERB'))],\n",
       " [('Home', 'NOUN'), (('Builders', 'X'), ('Builders', 'NOUN'))],\n",
       " [('of', 'ADP'), (('Bricklayers', 'X'), ('Bricklayers', 'NOUN'))],\n",
       " [('Allied', 'NOUN'), (('Craftsmen', 'X'), ('Craftsmen', 'NOUN'))],\n",
       " [('*-1', 'X'), (('insinuating', 'X'), ('insinuating', 'VERB'))],\n",
       " [('from', 'ADP'), (('self-serving', 'X'), ('self-serving', 'ADJ'))],\n",
       " [('groups', 'NOUN'), (('that', 'ADP'), ('that', 'DET'))],\n",
       " [('and', 'CONJ'), (('that', 'DET'), ('that', 'ADP'))],\n",
       " [('the', 'DET'), (('crusade', 'X'), ('crusade', 'NOUN'))],\n",
       " [('any', 'DET'), (('onslaught', 'X'), ('onslaught', 'NOUN'))],\n",
       " [('to', 'PRT'), (('shrug', 'X'), ('shrug', 'VERB'))],\n",
       " [('.', '.'), (('Packaging', 'X'), ('Packaging', 'NOUN'))],\n",
       " [('some', 'DET'), (('drawbacks', 'X'), ('drawbacks', 'NOUN'))],\n",
       " [('its', 'PRON'), (('doors', 'X'), ('doors', 'NOUN'))],\n",
       " [('for', 'ADP'), (('good', 'ADJ'), ('good', 'NOUN'))],\n",
       " [('Pamplin', 'NOUN'), (('enticed', 'X'), ('enticed', 'VERB'))],\n",
       " [('move', 'NOUN'), (('befuddled', 'X'), ('befuddled', 'VERB'))],\n",
       " [('in', 'ADP'), (('Westborough', 'X'), ('Westborough', 'NOUN'))],\n",
       " [('$', '.'), (('2.29', 'X'), ('2.29', 'NUM'))],\n",
       " [('$', '.'), (('2.25', 'X'), ('2.25', 'NUM'))],\n",
       " [('is', 'VERB'), (('worth', 'ADJ'), ('worth', 'ADP'))],\n",
       " [('*', 'X'), (('there', 'DET'), ('there', 'ADV'))],\n",
       " [('was', 'VERB'), (('3,288,453', 'X'), ('3,288,453', 'NUM'))],\n",
       " [('a', 'DET'), (('multitude', 'X'), ('multitude', 'NOUN'))],\n",
       " [('and', 'CONJ'), (('Japanese', 'ADJ'), ('Japanese', 'NOUN'))],\n",
       " [('a', 'DET'), (('disproportionate', 'X'), ('disproportionate', 'ADJ'))],\n",
       " [('the', 'DET'), (('public', 'ADJ'), ('public', 'NOUN'))],\n",
       " [('the', 'DET'), (('table', 'X'), ('table', 'NOUN'))],\n",
       " [('of', 'ADP'), (('as', 'ADP'), ('as', 'ADV'))],\n",
       " [('and', 'CONJ'), (('restructurings', 'X'), ('restructurings', 'NOUN'))],\n",
       " [('largely', 'ADV'), (('hugging', 'X'), ('hugging', 'VERB'))],\n",
       " [('are', 'VERB'), (('stretching', 'X'), ('stretching', 'VERB'))],\n",
       " [('their', 'PRON'), (('nets', 'X'), ('nets', 'NOUN'))],\n",
       " [('and', 'CONJ'), (('wide', 'ADJ'), ('wide', 'ADV'))],\n",
       " [('the', 'DET'), (('phase-out', 'X'), ('phase-out', 'NOUN'))],\n",
       " [('recent', 'ADJ'), (('closing', 'ADJ'), ('closing', 'NOUN'))],\n",
       " [('a', 'DET'), (('Hostess', 'X'), ('Hostess', 'NOUN'))],\n",
       " [('cake', 'NOUN'), (('bakery', 'X'), ('bakery', 'NOUN'))],\n",
       " [('by', 'ADP'), (('Tulane', 'X'), ('Tulane', 'NOUN'))],\n",
       " [('complex', 'ADJ'), (('array', 'X'), ('array', 'NOUN'))],\n",
       " [('common', 'ADJ'), (('thread', 'X'), ('thread', 'NOUN'))],\n",
       " [('$', '.'), (('1.50', 'X'), ('1.50', 'NUM'))],\n",
       " [('law', 'NOUN'), (('clerks', 'X'), ('clerks', 'NOUN'))],\n",
       " [('judge', 'NOUN'), (('quipped', 'X'), ('quipped', 'VERB'))],\n",
       " [('rejected', 'VERB'), (('nominee', 'X'), ('nominee', 'NOUN'))],\n",
       " [('*-55', 'X'), (('funding', 'NOUN'), ('funding', 'VERB'))],\n",
       " [('pay', 'VERB'), (('that', 'ADP'), ('that', 'DET'))],\n",
       " [('been', 'VERB'), (('enormously', 'X'), ('enormously', 'ADV'))],\n",
       " [('enormously', 'ADV'), (('frustrating', 'X'), ('frustrating', 'VERB'))],\n",
       " [('computer', 'NOUN'), (('science', 'X'), ('science', 'NOUN'))],\n",
       " [('was', 'VERB'), (('raring', 'X'), ('raring', 'ADJ'))],\n",
       " [('to', 'PRT'), (('invent', 'X'), ('invent', 'VERB'))],\n",
       " [('another', 'DET'), (('Walkman', 'X'), ('Walkman', 'NOUN'))],\n",
       " [('The', 'DET'), (('turf', 'X'), ('turf', 'NOUN'))],\n",
       " [('to', 'PRT'), (('Austria', 'X'), ('Austria', 'NOUN'))],\n",
       " [('to', 'PRT'), (('Portugal', 'X'), ('Portugal', 'NOUN'))],\n",
       " [('.', '.'), (('Academically', 'X'), ('Academically', 'ADV'))],\n",
       " [('two', 'NUM'), (('disparate', 'X'), ('disparate', 'ADJ'))],\n",
       " [('evenly', 'ADV'), (('split', 'VERB'), ('split', 'ADJ'))],\n",
       " [('a', 'DET'), (('privileged', 'X'), ('privileged', 'ADJ'))],\n",
       " [('white', 'ADJ'), (('elite', 'X'), ('elite', 'NOUN'))],\n",
       " [('old', 'ADJ'), (('monied', 'X'), ('monied', 'ADJ'))],\n",
       " [('monied', 'ADJ'), (('neighborhoods', 'X'), ('neighborhoods', 'NOUN'))],\n",
       " [(',', '.'), (('inner', 'X'), ('inner', 'ADJ'))],\n",
       " [('city', 'NOUN'), (('neighborhoods', 'X'), ('neighborhoods', 'NOUN'))],\n",
       " [('will', 'VERB'), (('control', 'NOUN'), ('control', 'VERB'))],\n",
       " [('control', 'VERB'), (('that', 'ADP'), ('that', 'DET'))],\n",
       " [('and', 'CONJ'), (('reap', 'X'), ('reap', 'VERB'))],\n",
       " [('huge', 'ADJ'), (('rewards', 'X'), ('rewards', 'NOUN'))],\n",
       " [('a', 'DET'), (('bread-and-butter', 'X'), ('bread-and-butter', 'ADJ'))],\n",
       " [('a', 'DET'), (('wheel-loader', 'X'), ('wheel-loader', 'ADJ'))],\n",
       " [('wheel-loader', 'ADJ'),\n",
       "  (('manufacturing', 'VERB'), ('manufacturing', 'NOUN'))],\n",
       " [('in', 'ADP'), (('Heidelberg', 'X'), ('Heidelberg', 'NOUN'))],\n",
       " [('.', '.'), (('Net', 'ADJ'), ('Net', 'NOUN'))],\n",
       " [('from', 'ADP'), (('12.82', 'X'), ('12.82', 'NUM'))],\n",
       " [('year', 'NOUN'), (('earlier', 'ADV'), ('earlier', 'ADJ'))],\n",
       " [('the', 'DET'), (('Equal', 'X'), ('Equal', 'NOUN'))],\n",
       " [('Equal', 'NOUN'), (('Employment', 'X'), ('Employment', 'NOUN'))],\n",
       " [('Employment', 'NOUN'), (('Opportunity', 'X'), ('Opportunity', 'NOUN'))],\n",
       " [('totaled', 'VERB'), (('1.916', 'X'), ('1.916', 'NUM'))],\n",
       " [('from', 'ADP'), (('1.637', 'X'), ('1.637', 'NUM'))],\n",
       " [('.', '.'), (('Troubled', 'X'), ('Troubled', 'NOUN'))],\n",
       " [('fired', 'VERB'), (('more', 'ADV'), ('more', 'ADJ'))],\n",
       " [('its', 'PRON'), (('work', 'VERB'), ('work', 'NOUN'))],\n",
       " [('work', 'NOUN'), (('force', 'VERB'), ('force', 'NOUN'))],\n",
       " [('is', 'VERB'), (('discontinuing', 'X'), ('discontinuing', 'VERB'))],\n",
       " [('yield', 'VERB'), (('3.43', 'X'), ('3.43', 'NUM'))],\n",
       " [('``', '.'), (('Nor', 'X'), ('Nor', 'CONJ'))],\n",
       " [('to', 'PRT'), (('reprint', 'X'), ('reprint', 'VERB'))],\n",
       " [('a', 'DET'), (('Delaware', 'X'), ('Delaware', 'NOUN'))],\n",
       " [('of', 'ADP'), (('Dunkin', 'X'), ('Dunkin', 'NOUN'))],\n",
       " [('ownership', 'NOUN'), (('plans', 'VERB'), ('plans', 'NOUN'))],\n",
       " [('to', 'PRT'), (('deter', 'X'), ('deter', 'VERB'))],\n",
       " [('and', 'CONJ'), (('parts-engineering', 'X'), ('parts-engineering', 'ADJ'))],\n",
       " [('it', 'PRON'), (('off', 'PRT'), ('off', 'ADP'))],\n",
       " [('?', '.'), (('Arbitrage-related', 'X'), ('Arbitrage-related', 'ADJ'))],\n",
       " [('the', 'DET'), (('close', 'ADJ'), ('close', 'NOUN'))],\n",
       " [('add', 'VERB'), (('two-sevenths', 'X'), ('two-sevenths', 'NOUN'))],\n",
       " [('and', 'CONJ'), (('three-sevenths', 'X'), ('three-sevenths', 'NOUN'))],\n",
       " [('.', '.'), (('Preston', 'X'), ('Preston', 'NOUN'))],\n",
       " [('Foster', 'NOUN'), (('Birmingham', 'X'), ('Birmingham', 'NOUN'))],\n",
       " [(',', '.'), (('Ala', 'X'), ('Ala', 'NOUN'))],\n",
       " [('worked', 'VERB'), (('up', 'ADV'), ('up', 'PRT'))],\n",
       " [('a', 'DET'), (('sweat', 'X'), ('sweat', 'NOUN'))],\n",
       " [('often', 'ADV'), (('skip', 'X'), ('skip', 'VERB'))],\n",
       " [('local', 'ADJ'), (('pub', 'X'), ('pub', 'NOUN'))],\n",
       " [('others', 'NOUN'), (('below', 'ADP'), ('below', 'ADV'))],\n",
       " [('--', '.'), (('even', 'ADV'), ('even', 'ADJ'))],\n",
       " [('and', 'CONJ'), (('uncompensated', 'X'), ('uncompensated', 'ADJ'))],\n",
       " [('uncompensated', 'ADJ'), (('takings', 'X'), ('takings', 'NOUN'))],\n",
       " [('*', 'X'), (('calculated', 'X'), ('calculated', 'VERB'))],\n",
       " [('International', 'NOUN'), (('Perspective', 'X'), ('Perspective', 'NOUN'))],\n",
       " [(',', '.'), (('Geneva', 'X'), ('Geneva', 'NOUN'))],\n",
       " [('.', '.'), (('Individual', 'X'), ('Individual', 'ADJ'))],\n",
       " [('$', '.'), (('2.95', 'X'), ('2.95', 'NUM'))],\n",
       " [('and', 'CONJ'), (('yearly', 'X'), ('yearly', 'ADJ'))],\n",
       " [('expected', 'VERB'), (('that', 'ADP'), ('that', 'DET'))],\n",
       " [('to', 'PRT'), (('rebound', 'NOUN'), ('rebound', 'VERB'))],\n",
       " [('.', '.'), (('West', 'NOUN'), ('West', 'ADJ'))],\n",
       " [('West', 'ADJ'), (('German', 'NOUN'), ('German', 'ADJ'))],\n",
       " [('was', 'VERB'), (('little', 'ADV'), ('little', 'ADJ'))],\n",
       " [('The', 'DET'), (('following', 'VERB'), ('following', 'NOUN'))],\n",
       " [('L.', 'NOUN'), (('Cole', 'X'), ('Cole', 'NOUN'))],\n",
       " [(',', '.'), (('Jackson', 'X'), ('Jackson', 'NOUN'))],\n",
       " [(';', '.'), (('Rita', 'X'), ('Rita', 'NOUN'))],\n",
       " [('Rita', 'NOUN'), (('Rae', 'X'), ('Rae', 'NOUN'))],\n",
       " [('Rae', 'NOUN'), (('Cross', 'X'), ('Cross', 'NOUN'))],\n",
       " [(',', '.'), (('Denver', 'X'), ('Denver', 'NOUN'))],\n",
       " [('Richard', 'NOUN'), (('Meinders', 'X'), ('Meinders', 'NOUN'))],\n",
       " [(',', '.'), (('five-day', 'X'), ('five-day', 'ADJ'))],\n",
       " [('and', 'CONJ'), (('eight-month', 'X'), ('eight-month', 'ADJ'))],\n",
       " [(',', '.'), (('Baton', 'X'), ('Baton', 'NOUN'))],\n",
       " [('Baton', 'NOUN'), (('Rouge', 'X'), ('Rouge', 'NOUN'))],\n",
       " [(',', '.'), (('La.', 'X'), ('La.', 'NOUN'))],\n",
       " [(';', '.'), (('Karl', 'X'), ('Karl', 'NOUN'))],\n",
       " [('Karl', 'NOUN'), (('Grant', 'X'), ('Grant', 'NOUN'))],\n",
       " [('Grant', 'NOUN'), (('Hale', 'X'), ('Hale', 'NOUN'))],\n",
       " [(',', '.'), (('Midvale', 'X'), ('Midvale', 'NOUN'))],\n",
       " [(',', '.'), (('Utah', 'X'), ('Utah', 'NOUN'))],\n",
       " [(';', '.'), (('Clinton', 'X'), ('Clinton', 'NOUN'))],\n",
       " [('P.', 'NOUN'), (('Hayne', 'X'), ('Hayne', 'NOUN'))],\n",
       " [('and', 'CONJ'), (('one-week', 'X'), ('one-week', 'ADJ'))],\n",
       " [(',', '.'), (('Coconut', 'X'), ('Coconut', 'NOUN'))],\n",
       " [('$', '.'), (('250,000', 'X'), ('250,000', 'NUM'))],\n",
       " [('B.', 'NOUN'), (('Merrick', 'X'), ('Merrick', 'NOUN'))],\n",
       " [(',', '.'), (('Aurora', 'X'), ('Aurora', 'NOUN'))],\n",
       " [(',', '.'), (('Baton', 'X'), ('Baton', 'NOUN'))],\n",
       " [('Baton', 'NOUN'), (('Rouge', 'X'), ('Rouge', 'NOUN'))],\n",
       " [('K.', 'NOUN'), (('Pace', 'X'), ('Pace', 'NOUN'))],\n",
       " [('and', 'CONJ'), (('90-day', 'X'), ('90-day', 'ADJ'))],\n",
       " [(';', '.'), (('Brian', 'X'), ('Brian', 'NOUN'))],\n",
       " [('D.', 'NOUN'), (('Pitcher', 'X'), ('Pitcher', 'NOUN'))],\n",
       " [('A.', 'NOUN'), (('Russo', 'X'), ('Russo', 'NOUN'))],\n",
       " [(',', '.'), (('Bridgeville', 'X'), ('Bridgeville', 'NOUN'))],\n",
       " [('and', 'CONJ'), (('15-day', 'X'), ('15-day', 'ADJ'))],\n",
       " [(';', '.'), (('Orville', 'X'), ('Orville', 'NOUN'))],\n",
       " [('Orville', 'NOUN'), (('Leroy', 'X'), ('Leroy', 'NOUN'))],\n",
       " [('Leroy', 'NOUN'), (('Sandberg', 'X'), ('Sandberg', 'NOUN'))],\n",
       " [(',', '.'), (('Aurora', 'X'), ('Aurora', 'NOUN'))],\n",
       " [('T.', 'NOUN'), (('Marchese', 'X'), ('Marchese', 'NOUN'))],\n",
       " [(';', '.'), (('Eric', 'X'), ('Eric', 'NOUN'))],\n",
       " [('G.', 'NOUN'), (('Monchecourt', 'X'), ('Monchecourt', 'NOUN'))],\n",
       " [('Robert', 'NOUN'), (('Gerhard', 'X'), ('Gerhard', 'NOUN'))],\n",
       " [(',', '.'), (('Carson', 'X'), ('Carson', 'NOUN'))],\n",
       " [('of', 'ADP'), (('5.6', 'X'), ('5.6', 'NUM'))],\n",
       " [('goes', 'VERB'), (('ex-dividend', 'X'), ('ex-dividend', 'ADJ'))],\n",
       " [('company', 'NOUN'), (('that', 'ADP'), ('that', 'DET'))],\n",
       " [('Michael', 'NOUN'), (('Stark', 'X'), ('Stark', 'NOUN'))],\n",
       " [('at', 'ADP'), (('Robertson', 'X'), ('Robertson', 'NOUN'))],\n",
       " [(',', '.'), (('Stephens', 'X'), ('Stephens', 'NOUN'))],\n",
       " [('Management', 'NOUN'), (('blurred', 'X'), ('blurred', 'VERB'))],\n",
       " [('blurred', 'VERB'), (('that', 'ADP'), ('that', 'DET'))],\n",
       " [('.', '.'), (('Dollar', 'X'), ('Dollar', 'NOUN'))],\n",
       " [('up', 'ADV'), (('0.95', 'X'), ('0.95', 'NUM'))],\n",
       " [('up', 'ADV'), (('0.0085', 'X'), ('0.0085', 'NUM'))],\n",
       " [('.', '.'), (('Yet', 'CONJ'), ('Yet', 'ADV'))],\n",
       " [('Marie-Louise', 'NOUN'), (('Giraud', 'X'), ('Giraud', 'NOUN'))],\n",
       " [('historical', 'ADJ'), (('significance', 'X'), ('significance', 'NOUN'))],\n",
       " [(\"'s\", 'PRT'), (('hypocrisy', 'X'), ('hypocrisy', 'NOUN'))],\n",
       " [('*-1', 'X'), (('characterizing', 'X'), ('characterizing', 'VERB'))],\n",
       " [('to', 'PRT'), (('entrench', 'X'), ('entrench', 'VERB'))],\n",
       " [(',', '.'), (('confuse', 'X'), ('confuse', 'VERB'))],\n",
       " [('London', 'NOUN'), (('borough', 'X'), ('borough', 'NOUN'))],\n",
       " [('not', 'ADV'), (('sit', 'X'), ('sit', 'VERB'))],\n",
       " [('some', 'DET'), (('clerics', 'X'), ('clerics', 'NOUN'))],\n",
       " [('in', 'ADP'), (('public', 'ADJ'), ('public', 'NOUN'))],\n",
       " [('so', 'ADV'), (('little', 'ADJ'), ('little', 'ADV'))],\n",
       " [('little', 'ADV'), (('sensitive', 'X'), ('sensitive', 'ADJ'))],\n",
       " [('a', 'DET'), (('pall', 'X'), ('pall', 'NOUN'))],\n",
       " [('its', 'PRON'), (('high-rolling', 'X'), ('high-rolling', 'ADJ'))],\n",
       " [('high-rolling', 'ADJ'), (('43-year-old', 'X'), ('43-year-old', 'ADJ'))],\n",
       " [('$', '.'), (('12.7', 'X'), ('12.7', 'NUM'))],\n",
       " [('F.', 'NOUN'), (('Shugart', 'X'), ('Shugart', 'NOUN'))],\n",
       " [('of', 'ADP'), (('Seagate', 'X'), ('Seagate', 'NOUN'))],\n",
       " [('team', 'NOUN'), (('that', 'ADP'), ('that', 'DET'))],\n",
       " [('another', 'DET'), (('drag-down', 'X'), ('drag-down', 'ADJ'))],\n",
       " [(\"'s\", 'VERB'), (('imaginative', 'X'), ('imaginative', 'ADJ'))],\n",
       " [('*T*-50', 'X'), (('accounts', 'NOUN'), ('accounts', 'VERB'))],\n",
       " [('nearly', 'ADV'), (('half', 'DET'), ('half', 'NOUN'))],\n",
       " [('was', 'VERB'), (('off', 'PRT'), ('off', 'ADJ'))],\n",
       " [('$', '.'), (('191.9', 'X'), ('191.9', 'NUM'))],\n",
       " [('*', 'X'), (('Compare', 'X'), ('Compare', 'VERB'))],\n",
       " [('$', '.'), (('415', 'X'), ('415', 'NUM'))],\n",
       " [('*U*', 'X'), (('charge', 'VERB'), ('charge', 'NOUN'))],\n",
       " [('for', 'ADP'), (('underperforming', 'X'), ('underperforming', 'VERB'))],\n",
       " [('that', 'DET'), (('fuller', 'X'), ('fuller', 'ADJ'))],\n",
       " [('The', 'DET'), (('total', 'ADJ'), ('total', 'NOUN'))],\n",
       " [('total', 'NOUN'), (('marks', 'NOUN'), ('marks', 'VERB'))],\n",
       " [('.', '.'), (('As', 'ADP'), ('As', 'ADV'))],\n",
       " [('``', '.'), (('Public', 'NOUN'), ('Public', 'ADJ'))],\n",
       " [('policy', 'NOUN'), (('favors', 'X'), ('favors', 'VERB'))],\n",
       " [('might', 'VERB'), (('accompany', 'X'), ('accompany', 'VERB'))],\n",
       " [('save', 'VERB'), (('lives', 'VERB'), ('lives', 'NOUN'))],\n",
       " [('reduce', 'VERB'), (('pain', 'X'), ('pain', 'NOUN'))],\n",
       " [('the', 'DET'), (('unanimous', 'X'), ('unanimous', 'ADJ'))],\n",
       " [('learned', 'VERB'), (('that', 'ADP'), ('that', 'DET'))],\n",
       " [('The', 'DET'), (('Soviet', 'ADJ'), ('Soviet', 'NOUN'))],\n",
       " [('the', 'DET'), (('most', 'ADJ'), ('most', 'ADV'))],\n",
       " [('the', 'DET'), (('Soviet', 'ADJ'), ('Soviet', 'NOUN'))],\n",
       " [('your', 'PRON'), (('gut', 'X'), ('gut', 'NOUN'))],\n",
       " [('plants', 'NOUN'), (('together', 'PRT'), ('together', 'ADV'))],\n",
       " [('will', 'VERB'), (('total', 'ADJ'), ('total', 'VERB'))],\n",
       " [('total', 'VERB'), (('about', 'ADP'), ('about', 'ADV'))],\n",
       " [('$', '.'), (('280', 'X'), ('280', 'NUM'))],\n",
       " [('a', 'DET'), (('powerhouse', 'X'), ('powerhouse', 'NOUN'))],\n",
       " [('Robert', 'NOUN'), (('Gottlieb', 'X'), ('Gottlieb', 'NOUN'))],\n",
       " [('New', 'NOUN'), (('Yorker', 'X'), ('Yorker', 'NOUN'))],\n",
       " [('a', 'DET'), (('shareholder-rights', 'X'), ('shareholder-rights', 'ADJ'))],\n",
       " [('off', 'PRT'), (('unwanted', 'X'), ('unwanted', 'ADJ'))],\n",
       " [('unwanted', 'ADJ'), (('suitors', 'X'), ('suitors', 'NOUN'))],\n",
       " [('.', '.'), (('Ports', 'X'), ('Ports', 'NOUN'))],\n",
       " [('Great', 'NOUN'), (('Lakes', 'X'), ('Lakes', 'NOUN'))],\n",
       " [('Atlantic', 'NOUN'), (('Coast', 'X'), ('Coast', 'NOUN'))],\n",
       " [('also', 'ADV'), (('relieve', 'X'), ('relieve', 'VERB'))],\n",
       " [('$', '.'), (('19.50', 'X'), ('19.50', 'NUM'))],\n",
       " [('carrier', 'NOUN'), (('so', 'ADV'), ('so', 'ADP'))],\n",
       " [('be', 'VERB'), (('impaired', 'X'), ('impaired', 'VERB'))],\n",
       " [('sharply', 'ADV'), (('diminished', 'X'), ('diminished', 'VERB'))],\n",
       " [('of', 'ADP'), (('airline-related', 'X'), ('airline-related', 'ADJ'))],\n",
       " [('an', 'DET'), (('overriding', 'X'), ('overriding', 'VERB'))],\n",
       " [('overriding', 'VERB'), (('public', 'ADJ'), ('public', 'NOUN'))],\n",
       " [('.', '.'), (('More', 'ADV'), ('More', 'ADJ'))],\n",
       " [('the', 'DET'), (('red-carpet', 'X'), ('red-carpet', 'ADJ'))],\n",
       " [('treatment', 'NOUN'), (('tempts', 'X'), ('tempts', 'VERB'))],\n",
       " [('to', 'PRT'), (('return', 'NOUN'), ('return', 'VERB'))],\n",
       " [('a', 'DET'), (('heartland', 'X'), ('heartland', 'NOUN'))],\n",
       " [('we', 'PRON'), (('evaluated', 'X'), ('evaluated', 'VERB'))],\n",
       " [('the', 'DET'), (('rewards', 'X'), ('rewards', 'NOUN'))],\n",
       " [('way', 'NOUN'), (('out', 'PRT'), ('out', 'ADP'))],\n",
       " [('owns', 'VERB'), (('about', 'ADP'), ('about', 'PRT'))],\n",
       " [('was', 'VERB'), (('awfully', 'X'), ('awfully', 'ADV'))],\n",
       " [('at', 'ADP'), (('Schaefer', 'X'), ('Schaefer', 'NOUN'))],\n",
       " [('in', 'ADP'), (('Skokie', 'X'), ('Skokie', 'NOUN'))],\n",
       " [('in', 'ADP'), (('suburban', 'X'), ('suburban', 'ADJ'))],\n",
       " [('people', 'NOUN'), (('out', 'PRT'), ('out', 'ADP'))],\n",
       " [('out', 'ADP'), (('there', 'DET'), ('there', 'ADV'))],\n",
       " [('different', 'ADJ'), (('opinions', 'X'), ('opinions', 'NOUN'))],\n",
       " [('a', 'DET'), (('leading', 'ADJ'), ('leading', 'VERB'))],\n",
       " [('leading', 'VERB'), (('proponent', 'X'), ('proponent', 'NOUN'))],\n",
       " [('``', '.'), (('peaceful', 'X'), ('peaceful', 'ADJ'))],\n",
       " [('a', 'DET'), (('catch', 'VERB'), ('catch', 'NOUN'))],\n",
       " [('to', 'PRT'), (('seduce', 'X'), ('seduce', 'VERB'))],\n",
       " [('seduce', 'VERB'), (('socialist', 'X'), ('socialist', 'ADJ'))],\n",
       " [('the', 'DET'), (('capitalist', 'X'), ('capitalist', 'ADJ'))],\n",
       " [('the', 'DET'), (('merit', 'VERB'), ('merit', 'NOUN'))]]"
      ]
     },
     "execution_count": 27,
     "metadata": {},
     "output_type": "execute_result"
    }
   ],
   "source": [
    "#Get the words in the test set which are incorrectly classified\n",
    "incorrect_tagged_cases = [[test_run_base[i-1],j] for i, j in enumerate(zip(tagged_seq, test_run_base)) if j[0]!=j[1]]\n",
    "incorrect_tagged_cases"
   ]
  },
  {
   "cell_type": "markdown",
   "metadata": {},
   "source": [
    "Most of the words which are not present in training set are simply assigned the first pos tag in the training pos tagset\n",
    "\n",
    "Let us do the analysis on the test file which we read before"
   ]
  },
  {
   "cell_type": "code",
   "execution_count": 30,
   "metadata": {
    "scrolled": true
   },
   "outputs": [
    {
     "name": "stderr",
     "output_type": "stream",
     "text": [
      "[nltk_data] Downloading package punkt to\n",
      "[nltk_data]     C:\\Users\\Abhishek\\AppData\\Roaming\\nltk_data...\n",
      "[nltk_data]   Package punkt is already up-to-date!\n"
     ]
    },
    {
     "data": {
      "text/plain": [
       "True"
      ]
     },
     "execution_count": 30,
     "metadata": {},
     "output_type": "execute_result"
    }
   ],
   "source": [
    "nltk.download('punkt')"
   ]
  },
  {
   "cell_type": "code",
   "execution_count": 31,
   "metadata": {},
   "outputs": [
    {
     "data": {
      "text/plain": [
       "[('Android', 'X'),\n",
       " ('is', 'VERB'),\n",
       " ('a', 'DET'),\n",
       " ('mobile', 'ADJ'),\n",
       " ('operating', 'NOUN'),\n",
       " ('system', 'NOUN'),\n",
       " ('developed', 'VERB'),\n",
       " ('by', 'ADP'),\n",
       " ('Google', 'X'),\n",
       " ('.', '.'),\n",
       " ('Android', 'X'),\n",
       " ('has', 'VERB'),\n",
       " ('been', 'VERB'),\n",
       " ('the', 'DET'),\n",
       " ('best-selling', 'ADJ'),\n",
       " ('OS', 'X'),\n",
       " ('worldwide', 'X'),\n",
       " ('on', 'ADP'),\n",
       " ('smartphones', 'X'),\n",
       " ('since', 'ADP'),\n",
       " ('2011', 'X'),\n",
       " ('and', 'CONJ'),\n",
       " ('on', 'ADP'),\n",
       " ('tablets', 'NOUN'),\n",
       " ('since', 'ADP'),\n",
       " ('2013', 'X'),\n",
       " ('.', '.'),\n",
       " ('Google', 'X'),\n",
       " ('and', 'CONJ'),\n",
       " ('Twitter', 'X'),\n",
       " ('made', 'VERB'),\n",
       " ('a', 'DET'),\n",
       " ('deal', 'NOUN'),\n",
       " ('in', 'ADP'),\n",
       " ('2015', 'X'),\n",
       " ('that', 'ADP'),\n",
       " ('gave', 'VERB'),\n",
       " ('Google', 'X'),\n",
       " ('access', 'NOUN'),\n",
       " ('to', 'PRT'),\n",
       " ('Twitter', 'X'),\n",
       " (\"'s\", 'PRT'),\n",
       " ('firehose', 'X'),\n",
       " ('.', '.'),\n",
       " ('Twitter', 'X'),\n",
       " ('is', 'VERB'),\n",
       " ('an', 'DET'),\n",
       " ('online', 'X'),\n",
       " ('news', 'NOUN'),\n",
       " ('and', 'CONJ'),\n",
       " ('social', 'ADJ'),\n",
       " ('networking', 'NOUN'),\n",
       " ('service', 'NOUN'),\n",
       " ('on', 'ADP'),\n",
       " ('which', 'DET'),\n",
       " ('users', 'NOUN'),\n",
       " ('post', 'NOUN'),\n",
       " ('and', 'CONJ'),\n",
       " ('interact', 'X'),\n",
       " ('with', 'ADP'),\n",
       " ('messages', 'X'),\n",
       " ('known', 'VERB'),\n",
       " ('as', 'ADP'),\n",
       " ('tweets', 'X'),\n",
       " ('.', '.'),\n",
       " ('Before', 'ADP'),\n",
       " ('entering', 'VERB'),\n",
       " ('politics', 'NOUN'),\n",
       " (',', '.'),\n",
       " ('Donald', 'NOUN'),\n",
       " ('Trump', 'NOUN'),\n",
       " ('was', 'VERB'),\n",
       " ('a', 'DET'),\n",
       " ('domineering', 'X'),\n",
       " ('businessman', 'NOUN'),\n",
       " ('and', 'CONJ'),\n",
       " ('a', 'DET'),\n",
       " ('television', 'NOUN'),\n",
       " ('personality', 'X'),\n",
       " ('.', '.'),\n",
       " ('The', 'DET'),\n",
       " ('2018', 'X'),\n",
       " ('FIFA', 'X'),\n",
       " ('World', 'NOUN'),\n",
       " ('Cup', 'X'),\n",
       " ('is', 'VERB'),\n",
       " ('the', 'DET'),\n",
       " ('21st', 'X'),\n",
       " ('FIFA', 'X'),\n",
       " ('World', 'NOUN'),\n",
       " ('Cup', 'X'),\n",
       " (',', '.'),\n",
       " ('an', 'DET'),\n",
       " ('international', 'ADJ'),\n",
       " ('football', 'NOUN'),\n",
       " ('tournament', 'X'),\n",
       " ('contested', 'X'),\n",
       " ('once', 'ADV'),\n",
       " ('every', 'DET'),\n",
       " ('four', 'NUM'),\n",
       " ('years', 'NOUN'),\n",
       " ('.', '.'),\n",
       " ('This', 'DET'),\n",
       " ('is', 'VERB'),\n",
       " ('the', 'DET'),\n",
       " ('first', 'ADJ'),\n",
       " ('World', 'NOUN'),\n",
       " ('Cup', 'X'),\n",
       " ('to', 'PRT'),\n",
       " ('be', 'VERB'),\n",
       " ('held', 'VERB'),\n",
       " ('in', 'ADP'),\n",
       " ('Eastern', 'NOUN'),\n",
       " ('Europe', 'NOUN'),\n",
       " ('and', 'CONJ'),\n",
       " ('the', 'DET'),\n",
       " ('11th', 'ADJ'),\n",
       " ('time', 'NOUN'),\n",
       " ('that', 'ADP'),\n",
       " ('it', 'PRON'),\n",
       " ('has', 'VERB'),\n",
       " ('been', 'VERB'),\n",
       " ('held', 'VERB'),\n",
       " ('in', 'ADP'),\n",
       " ('Europe', 'NOUN'),\n",
       " ('.', '.'),\n",
       " ('Show', 'NOUN'),\n",
       " ('me', 'PRON'),\n",
       " ('the', 'DET'),\n",
       " ('cheapest', 'ADJ'),\n",
       " ('round', 'NOUN'),\n",
       " ('trips', 'X'),\n",
       " ('from', 'ADP'),\n",
       " ('Dallas', 'NOUN'),\n",
       " ('to', 'PRT'),\n",
       " ('Atlanta', 'NOUN'),\n",
       " ('I', 'PRON'),\n",
       " ('would', 'VERB'),\n",
       " ('like', 'ADP'),\n",
       " ('to', 'PRT'),\n",
       " ('see', 'VERB'),\n",
       " ('flights', 'NOUN'),\n",
       " ('from', 'ADP'),\n",
       " ('Denver', 'X'),\n",
       " ('to', 'PRT'),\n",
       " ('Philadelphia', 'NOUN'),\n",
       " ('.', '.'),\n",
       " ('Show', 'NOUN'),\n",
       " ('me', 'PRON'),\n",
       " ('the', 'DET'),\n",
       " ('price', 'NOUN'),\n",
       " ('of', 'ADP'),\n",
       " ('the', 'DET'),\n",
       " ('flights', 'NOUN'),\n",
       " ('leaving', 'VERB'),\n",
       " ('Atlanta', 'NOUN'),\n",
       " ('at', 'ADP'),\n",
       " ('about', 'ADP'),\n",
       " ('3', 'NUM'),\n",
       " ('in', 'ADP'),\n",
       " ('the', 'DET'),\n",
       " ('afternoon', 'NOUN'),\n",
       " ('and', 'CONJ'),\n",
       " ('arriving', 'X'),\n",
       " ('in', 'ADP'),\n",
       " ('San', 'NOUN'),\n",
       " ('Francisco', 'NOUN'),\n",
       " ('.', '.'),\n",
       " ('NASA', 'X'),\n",
       " ('invited', 'X'),\n",
       " ('social', 'ADJ'),\n",
       " ('media', 'NOUN'),\n",
       " ('users', 'NOUN'),\n",
       " ('to', 'PRT'),\n",
       " ('experience', 'NOUN'),\n",
       " ('the', 'DET'),\n",
       " ('launch', 'NOUN'),\n",
       " ('of', 'ADP'),\n",
       " ('ICESAT-2', 'X'),\n",
       " ('Satellite', 'X'),\n",
       " ('.', '.')]"
      ]
     },
     "execution_count": 31,
     "metadata": {},
     "output_type": "execute_result"
    }
   ],
   "source": [
    "#Get the predictions on the test sentences\n",
    "sample_pred_list =[]\n",
    "for line in test_lines:\n",
    "    sample_pred_list=sample_pred_list+list(Viterbi(word_tokenize(line)))\n",
    "sample_pred_list"
   ]
  },
  {
   "cell_type": "markdown",
   "metadata": {},
   "source": [
    "For words like 'Android','Google' the first tag in the training pos tagset is given. Let us see if these words exist in the training corpus"
   ]
  },
  {
   "cell_type": "code",
   "execution_count": 32,
   "metadata": {},
   "outputs": [],
   "source": [
    "#Get the tokens in the test file\n",
    "sample_words=[tokens for line in test_lines for tokens in word_tokenize(line)]"
   ]
  },
  {
   "cell_type": "code",
   "execution_count": 33,
   "metadata": {},
   "outputs": [
    {
     "data": {
      "text/plain": [
       "['contested',\n",
       " 'personality',\n",
       " 'NASA',\n",
       " '2018',\n",
       " 'arriving',\n",
       " 'OS',\n",
       " 'Cup',\n",
       " 'domineering',\n",
       " 'Denver',\n",
       " 'online',\n",
       " 'interact',\n",
       " 'trips',\n",
       " '21st',\n",
       " 'FIFA',\n",
       " 'Android',\n",
       " 'tournament',\n",
       " '2013',\n",
       " 'firehose',\n",
       " 'tweets',\n",
       " 'Twitter',\n",
       " '2011',\n",
       " 'ICESAT-2',\n",
       " 'Satellite',\n",
       " 'Google',\n",
       " '2015',\n",
       " 'invited',\n",
       " 'worldwide',\n",
       " 'smartphones',\n",
       " 'messages']"
      ]
     },
     "execution_count": 33,
     "metadata": {},
     "output_type": "execute_result"
    }
   ],
   "source": [
    "#Get the list of words which are present in test lines but not in the training corpus\n",
    "words_not_in_corpus = list(set(sample_words) - set(tokens))\n",
    "words_not_in_corpus"
   ]
  },
  {
   "cell_type": "markdown",
   "metadata": {},
   "source": [
    "Clearly the words like 'Google','Android','Fifa' are not present in the training set and they are all tagged default tags."
   ]
  },
  {
   "cell_type": "code",
   "execution_count": 34,
   "metadata": {},
   "outputs": [
    {
     "data": {
      "text/plain": [
       "[('Android', 'X'),\n",
       " ('Google', 'X'),\n",
       " ('Android', 'X'),\n",
       " ('OS', 'X'),\n",
       " ('worldwide', 'X'),\n",
       " ('smartphones', 'X'),\n",
       " ('2011', 'X'),\n",
       " ('2013', 'X'),\n",
       " ('Google', 'X'),\n",
       " ('Twitter', 'X'),\n",
       " ('2015', 'X'),\n",
       " ('Google', 'X'),\n",
       " ('Twitter', 'X'),\n",
       " ('firehose', 'X'),\n",
       " ('Twitter', 'X'),\n",
       " ('online', 'X'),\n",
       " ('interact', 'X'),\n",
       " ('messages', 'X'),\n",
       " ('tweets', 'X'),\n",
       " ('domineering', 'X'),\n",
       " ('personality', 'X'),\n",
       " ('2018', 'X'),\n",
       " ('FIFA', 'X'),\n",
       " ('Cup', 'X'),\n",
       " ('21st', 'X'),\n",
       " ('FIFA', 'X'),\n",
       " ('Cup', 'X'),\n",
       " ('tournament', 'X'),\n",
       " ('contested', 'X'),\n",
       " ('Cup', 'X'),\n",
       " ('trips', 'X'),\n",
       " ('Denver', 'X'),\n",
       " ('arriving', 'X'),\n",
       " ('NASA', 'X'),\n",
       " ('invited', 'X'),\n",
       " ('ICESAT-2', 'X'),\n",
       " ('Satellite', 'X')]"
      ]
     },
     "execution_count": 34,
     "metadata": {},
     "output_type": "execute_result"
    }
   ],
   "source": [
    "#Get the tags predicted for unknown words\n",
    "[tup for tup in sample_pred_list for word in words_not_in_corpus if tup[0]==word ]"
   ]
  },
  {
   "cell_type": "code",
   "execution_count": 35,
   "metadata": {},
   "outputs": [
    {
     "data": {
      "text/plain": [
       "Counter({'DET': 8266,\n",
       "         'NUM': 3369,\n",
       "         'ADJ': 6045,\n",
       "         'NOUN': 27293,\n",
       "         'VERB': 12858,\n",
       "         'ADP': 9377,\n",
       "         '.': 11062,\n",
       "         'X': 6259,\n",
       "         'CONJ': 2133,\n",
       "         'PRON': 2578,\n",
       "         'ADV': 3002,\n",
       "         'PRT': 3040})"
      ]
     },
     "execution_count": 35,
     "metadata": {},
     "output_type": "execute_result"
    }
   ],
   "source": [
    "#Let us see the count of all tags in the training set\n",
    "from collections import Counter\n",
    "tag_counts = Counter(pair[1] for pair in train_tagged_words)\n",
    "tag_counts"
   ]
  },
  {
   "cell_type": "code",
   "execution_count": 36,
   "metadata": {},
   "outputs": [
    {
     "data": {
      "text/plain": [
       "[('NOUN', 27293), ('VERB', 12858), ('.', 11062), ('ADP', 9377), ('DET', 8266)]"
      ]
     },
     "execution_count": 36,
     "metadata": {},
     "output_type": "execute_result"
    }
   ],
   "source": [
    "# see most common tags can in the training corpus\n",
    "tag_counts.most_common(5)"
   ]
  },
  {
   "cell_type": "code",
   "execution_count": 37,
   "metadata": {},
   "outputs": [
    {
     "data": {
      "text/plain": [
       "Counter({'ADP': 24,\n",
       "         'X': 369,\n",
       "         'ADV': 17,\n",
       "         'ADJ': 31,\n",
       "         'PRT': 7,\n",
       "         'NOUN': 29,\n",
       "         'VERB': 22,\n",
       "         'DET': 7,\n",
       "         'CONJ': 2})"
      ]
     },
     "execution_count": 37,
     "metadata": {},
     "output_type": "execute_result"
    }
   ],
   "source": [
    "#Lets see count of incorrectly classfied words for each tag\n",
    "wrong_tag_counts = Counter(pair[1][0][1] for pair in incorrect_tagged_cases)\n",
    "wrong_tag_counts"
   ]
  },
  {
   "cell_type": "code",
   "execution_count": 38,
   "metadata": {},
   "outputs": [
    {
     "name": "stdout",
     "output_type": "stream",
     "text": [
      "0.20827500388862966\n"
     ]
    },
    {
     "data": {
      "text/plain": [
       "[('burned', 'VERB'),\n",
       " ('construed', 'VERB'),\n",
       " ('quoted', 'VERB'),\n",
       " ('increased', 'VERB'),\n",
       " ('believed', 'VERB'),\n",
       " ('shipped', 'VERB'),\n",
       " ('tumbled', 'VERB'),\n",
       " ('raised', 'VERB'),\n",
       " ('prepared', 'VERB'),\n",
       " ('registered', 'VERB'),\n",
       " ('abandoned', 'VERB'),\n",
       " ('skyrocketed', 'VERB'),\n",
       " ('Posted', 'VERB'),\n",
       " ('priced', 'VERB'),\n",
       " ('planned', 'VERB'),\n",
       " ('adopted', 'VERB'),\n",
       " ('studied', 'VERB'),\n",
       " ('retained', 'VERB'),\n",
       " ('noted', 'VERB'),\n",
       " ('viewed', 'VERB')]"
      ]
     },
     "execution_count": 38,
     "metadata": {},
     "output_type": "execute_result"
    }
   ],
   "source": [
    "# Let us see the percentage of verbs which are classifed as 'verb which end with 'ed'\n",
    "verbs = [pair for pair in train_tagged_words if pair[1]=='VERB']\n",
    "ed_verbs = [pair for pair in verbs if pair[0].endswith('ed')]\n",
    "print(len(ed_verbs) / len(verbs))\n",
    "ed_verbs[:20]"
   ]
  },
  {
   "cell_type": "markdown",
   "metadata": {},
   "source": [
    "Around 20% of words which end with 'ed' are verbs. Though it is 20% it is high because this is universal tagset and Verbs contain all the forms of verbs"
   ]
  },
  {
   "cell_type": "code",
   "execution_count": 39,
   "metadata": {},
   "outputs": [
    {
     "name": "stdout",
     "output_type": "stream",
     "text": [
      "0.10911494789236273\n"
     ]
    },
    {
     "data": {
      "text/plain": [
       "[('accounting', 'VERB'),\n",
       " ('trading', 'VERB'),\n",
       " ('clearing', 'VERB'),\n",
       " ('increasing', 'VERB'),\n",
       " ('turning', 'VERB'),\n",
       " ('trying', 'VERB'),\n",
       " ('undergoing', 'VERB'),\n",
       " ('funding', 'VERB'),\n",
       " ('justifying', 'VERB'),\n",
       " ('disseminating', 'VERB'),\n",
       " ('ignoring', 'VERB'),\n",
       " ('becoming', 'VERB'),\n",
       " ('walking', 'VERB'),\n",
       " ('directing', 'VERB'),\n",
       " ('selling', 'VERB'),\n",
       " ('Reducing', 'VERB'),\n",
       " ('ending', 'VERB'),\n",
       " ('restructuring', 'VERB'),\n",
       " ('ring', 'VERB'),\n",
       " ('condemning', 'VERB')]"
      ]
     },
     "execution_count": 39,
     "metadata": {},
     "output_type": "execute_result"
    }
   ],
   "source": [
    "# Let us see the percentage of verbs which are classifed as 'verb which end with 'ing'\n",
    "verbs = [pair for pair in train_tagged_words if pair[1]=='VERB']\n",
    "ing_verbs = [pair for pair in verbs if pair[0].endswith('ing')]\n",
    "print(len(ing_verbs) / len(verbs))\n",
    "ing_verbs[:20]"
   ]
  },
  {
   "cell_type": "code",
   "execution_count": 41,
   "metadata": {},
   "outputs": [
    {
     "name": "stdout",
     "output_type": "stream",
     "text": [
      "6045\n",
      "4216\n",
      "0.6974358974358974\n"
     ]
    }
   ],
   "source": [
    "#Lets see percentage of Adjective tags followed by nouns\n",
    "# create a list of all tags (without the words)\n",
    "tags = [pair[1] for pair in train_tagged_words]\n",
    "\n",
    "# create a list of Adj tags\n",
    "adj_tags = [t for t in tags if t == 'ADJ']\n",
    "\n",
    "# create a list of (ADJ, Noun) tags\n",
    "adj_noun_tags = [(t, tags[index+1]) for index, t in enumerate(tags) \n",
    "              if t=='ADJ' and tags[index+1]=='NOUN']\n",
    "\n",
    "print(len(adj_tags))\n",
    "print(len(adj_noun_tags))\n",
    "print(len(adj_noun_tags) / len(adj_tags))"
   ]
  },
  {
   "cell_type": "markdown",
   "metadata": {},
   "source": [
    "Around 70% of adjectives are followed by Nouns"
   ]
  },
  {
   "cell_type": "code",
   "execution_count": 42,
   "metadata": {},
   "outputs": [
    {
     "name": "stdout",
     "output_type": "stream",
     "text": [
      "8266\n",
      "5269\n",
      "0.6374304379385435\n"
     ]
    }
   ],
   "source": [
    "#Lets see percentage of Determinent tags followed by nouns\n",
    "dt_tags = [t for t in tags if t == 'DET']\n",
    "dt_noun_tags = [(t, tags[index+1]) for index, t in enumerate(tags) \n",
    "              if t=='DET' and tags[index+1]=='NOUN']\n",
    "\n",
    "print(len(dt_tags))\n",
    "print(len(dt_noun_tags))\n",
    "print(len(dt_noun_tags) / len(dt_tags))"
   ]
  },
  {
   "cell_type": "markdown",
   "metadata": {},
   "source": [
    "Around 63% of determinants are followed by Nouns"
   ]
  },
  {
   "cell_type": "code",
   "execution_count": 43,
   "metadata": {},
   "outputs": [
    {
     "name": "stdout",
     "output_type": "stream",
     "text": [
      "3002\n",
      "1030\n",
      "0.3431045969353764\n"
     ]
    }
   ],
   "source": [
    "#Lets see percentage of Adverbs tags followed by Verbs\n",
    "adv_tags = [t for t in tags if t == 'ADV']\n",
    "adv_vb_tags = [(t, tags[index+1]) for index, t in enumerate(tags) \n",
    "              if t=='ADV' and tags[index+1]=='VERB']\n",
    "\n",
    "print(len(adv_tags))\n",
    "print(len(adv_vb_tags))\n",
    "print(len(adv_vb_tags) / len(adv_tags))"
   ]
  },
  {
   "cell_type": "markdown",
   "metadata": {},
   "source": [
    "Around 35% of adverbs are followed by verbs\n",
    "\n",
    "Lets use the EDA done above and also grammar to build our rules for regex based tagger"
   ]
  },
  {
   "cell_type": "code",
   "execution_count": 44,
   "metadata": {},
   "outputs": [],
   "source": [
    "# specify patterns for tagging\n",
    "patterns = [\n",
    "    (r'.*ing$', 'VERB'),              # gerund\n",
    "    (r'.*ed$', 'VERB'),               # past tense verbs\n",
    "    (r'.*es$', 'VERB'),               # singular present verbs\n",
    "    (r'.*ould$', 'VERB'),              # modal verbs\n",
    "    (r'.*\\'s$', 'NOUN'),              # possessive nouns\n",
    "    (r'.*s$', 'NOUN'),                # plural nouns\n",
    "    (r'^-?[0-9]+(.[0-9]+)?$', 'NUM'), # cardinal numbers\n",
    "    (r'(The|the|A|a|An|an)$', 'DET'),   # articles or determinants\n",
    "    (r'.*able$', 'ADJ'),                # adjectives\n",
    "    (r'.*ness$', 'NOUN'),                # nouns formed from adjectives\n",
    "    (r'.*ly$', 'ADV'),                  # adverbs\n",
    "    (r'.*', 'NOUN')                    # nouns\n",
    "]"
   ]
  },
  {
   "cell_type": "code",
   "execution_count": 45,
   "metadata": {},
   "outputs": [
    {
     "data": {
      "text/plain": [
       "0.9480904708935854"
      ]
     },
     "execution_count": 45,
     "metadata": {},
     "output_type": "execute_result"
    }
   ],
   "source": [
    "# rule based tagger\n",
    "rule_based_tagger = nltk.RegexpTagger(patterns)\n",
    "\n",
    "# lexicon backed up by the rule-based tagger\n",
    "lexicon_tagger = nltk.UnigramTagger(train_set, backoff=rule_based_tagger)\n",
    "\n",
    "lexicon_tagger.evaluate(test_set)"
   ]
  },
  {
   "cell_type": "markdown",
   "metadata": {},
   "source": [
    "For a Unigram lexicon tagger backed up by a rule based tagger the accuracy is around 94%. Let us improve it further by using N-gram tagger."
   ]
  },
  {
   "cell_type": "markdown",
   "metadata": {},
   "source": [
    "#### Evaluating tagging accuracy"
   ]
  },
  {
   "cell_type": "code",
   "execution_count": 46,
   "metadata": {},
   "outputs": [],
   "source": [
    "#Trigram tagger backed by Bigram backed by Unigram which is backed by rule based tagger\n",
    "t0 = nltk.RegexpTagger(patterns)\n",
    "t1 = nltk.UnigramTagger(train_set, backoff=t0)\n",
    "t2 = nltk.BigramTagger(train_set, backoff=t1)\n",
    "t3 = nltk.TrigramTagger(train_set, backoff=t2)"
   ]
  },
  {
   "cell_type": "markdown",
   "metadata": {},
   "source": [
    "Let us use Brill algorithm as a base algorithm backed by the tagger created above"
   ]
  },
  {
   "cell_type": "code",
   "execution_count": 47,
   "metadata": {},
   "outputs": [],
   "source": [
    "#Import libraries for brill\n",
    "import nltk.tag\n",
    "from nltk.tag import brill\n",
    "from nltk.tag.brill import *\n",
    "from nltk.tbl.template import Template\n",
    "from nltk.tag import BrillTaggerTrainer\n",
    "\n",
    "#Clear existing templates if any\n",
    "Template._cleartemplates()\n",
    "\n",
    "#Load the fntbl37 template\n",
    "templates = fntbl37()\n",
    " \n",
    "#Train the Brill model\n",
    "trainer = BrillTaggerTrainer(t3, templates)\n",
    "brill_tagger = trainer.train(train_set, max_rules=100, min_score=3)"
   ]
  },
  {
   "cell_type": "markdown",
   "metadata": {},
   "source": [
    "The state probabilities for unknown words become zero and hence the Viterbi algorithm updates the unknown words by default with the first tag in the training set.\n",
    "\n",
    "Now lets modify the Viterbi algorithm such that when the state probabilities become zero it updates the tag based on the tagger we created above"
   ]
  },
  {
   "cell_type": "code",
   "execution_count": 48,
   "metadata": {},
   "outputs": [],
   "source": [
    "# Viterbi Heuristic\n",
    "def Viterbi_updated(words, train_bag = train_tagged_words):\n",
    "    state = []\n",
    "    T = list(set([pair[1] for pair in train_bag]))\n",
    "    \n",
    "    for key, word in enumerate(words):\n",
    "        #initialise list of probability column for a given observation\n",
    "        p = [] \n",
    "        for tag in T:\n",
    "            if key == 0:\n",
    "                transition_p = tags_df.loc['.', tag]\n",
    "            else:\n",
    "                transition_p = tags_df.loc[state[-1], tag]\n",
    "                \n",
    "            # compute emission and state probabilities\n",
    "            emission_p = word_given_tag(words[key], tag)[0]/word_given_tag(words[key], tag)[1]\n",
    "            state_probability = emission_p * transition_p    \n",
    "            p.append(state_probability)\n",
    "            \n",
    "        pmax = max(p)\n",
    "       \n",
    "        #Check if state probability is zero\n",
    "        if(pmax==0.0):\n",
    "            #If state probability is zero i.e if the word is unknown if updates the tag based on the brill tagger\n",
    "            state_max = brill_tagger.tag([word])[0][1]\n",
    "        else:\n",
    "            # getting state for which probability is maximum\n",
    "            state_max = T[p.index(pmax)] \n",
    "        state.append(state_max)\n",
    "    return list(zip(words, state))"
   ]
  },
  {
   "cell_type": "markdown",
   "metadata": {},
   "source": [
    "### Compare the tagging accuracies of the modifications with the vanilla Viterbi algorithm"
   ]
  },
  {
   "cell_type": "code",
   "execution_count": 49,
   "metadata": {},
   "outputs": [
    {
     "name": "stdout",
     "output_type": "stream",
     "text": [
      "2483.7499599456787\n"
     ]
    }
   ],
   "source": [
    "# tagging the test sentences with the updated Viterbi algorithm\n",
    "start = time.time()\n",
    "updated_tagged_seq = Viterbi_updated(test_tagged_words)\n",
    "end = time.time()\n",
    "difference = end-start\n",
    "#Print total time taken to train the algorithm\n",
    "print(difference)"
   ]
  },
  {
   "cell_type": "code",
   "execution_count": 50,
   "metadata": {},
   "outputs": [
    {
     "data": {
      "text/plain": [
       "0.9542083796811272"
      ]
     },
     "execution_count": 50,
     "metadata": {},
     "output_type": "execute_result"
    }
   ],
   "source": [
    "# Calculate the accuracy for the updated Viterbi algorithm\n",
    "check = [i for i, j in zip(updated_tagged_seq, test_run_base) if i == j] \n",
    "accuracy = len(check)/len(updated_tagged_seq)\n",
    "accuracy"
   ]
  },
  {
   "cell_type": "markdown",
   "metadata": {},
   "source": [
    "`Accuracy is increased much by the updated Viterbi algorithm.`"
   ]
  },
  {
   "cell_type": "markdown",
   "metadata": {},
   "source": [
    "### List down cases which were incorrectly tagged by original POS tagger and got corrected by your modifications"
   ]
  },
  {
   "cell_type": "code",
   "execution_count": 51,
   "metadata": {},
   "outputs": [
    {
     "name": "stdout",
     "output_type": "stream",
     "text": [
      "[('Android', 'X'), ('is', 'VERB'), ('a', 'DET'), ('mobile', 'ADJ'), ('operating', 'NOUN'), ('system', 'NOUN'), ('developed', 'VERB'), ('by', 'ADP'), ('Google', 'X'), ('.', '.')]\n",
      "[('Android', 'X'), ('has', 'VERB'), ('been', 'VERB'), ('the', 'DET'), ('best-selling', 'ADJ'), ('OS', 'X'), ('worldwide', 'X'), ('on', 'ADP'), ('smartphones', 'X'), ('since', 'ADP'), ('2011', 'X'), ('and', 'CONJ'), ('on', 'ADP'), ('tablets', 'NOUN'), ('since', 'ADP'), ('2013', 'X'), ('.', '.')]\n",
      "[('Google', 'X'), ('and', 'CONJ'), ('Twitter', 'X'), ('made', 'VERB'), ('a', 'DET'), ('deal', 'NOUN'), ('in', 'ADP'), ('2015', 'X'), ('that', 'ADP'), ('gave', 'VERB'), ('Google', 'X'), ('access', 'NOUN'), ('to', 'PRT'), ('Twitter', 'X'), (\"'s\", 'PRT'), ('firehose', 'X'), ('.', '.')]\n",
      "[('Twitter', 'X'), ('is', 'VERB'), ('an', 'DET'), ('online', 'X'), ('news', 'NOUN'), ('and', 'CONJ'), ('social', 'ADJ'), ('networking', 'NOUN'), ('service', 'NOUN'), ('on', 'ADP'), ('which', 'DET'), ('users', 'NOUN'), ('post', 'NOUN'), ('and', 'CONJ'), ('interact', 'X'), ('with', 'ADP'), ('messages', 'X'), ('known', 'VERB'), ('as', 'ADP'), ('tweets', 'X'), ('.', '.')]\n",
      "[('Before', 'ADP'), ('entering', 'VERB'), ('politics', 'NOUN'), (',', '.'), ('Donald', 'NOUN'), ('Trump', 'NOUN'), ('was', 'VERB'), ('a', 'DET'), ('domineering', 'X'), ('businessman', 'NOUN'), ('and', 'CONJ'), ('a', 'DET'), ('television', 'NOUN'), ('personality', 'X'), ('.', '.')]\n",
      "[('The', 'DET'), ('2018', 'X'), ('FIFA', 'X'), ('World', 'NOUN'), ('Cup', 'X'), ('is', 'VERB'), ('the', 'DET'), ('21st', 'X'), ('FIFA', 'X'), ('World', 'NOUN'), ('Cup', 'X'), (',', '.'), ('an', 'DET'), ('international', 'ADJ'), ('football', 'NOUN'), ('tournament', 'X'), ('contested', 'X'), ('once', 'ADV'), ('every', 'DET'), ('four', 'NUM'), ('years', 'NOUN'), ('.', '.')]\n",
      "[('This', 'DET'), ('is', 'VERB'), ('the', 'DET'), ('first', 'ADJ'), ('World', 'NOUN'), ('Cup', 'X'), ('to', 'PRT'), ('be', 'VERB'), ('held', 'VERB'), ('in', 'ADP'), ('Eastern', 'NOUN'), ('Europe', 'NOUN'), ('and', 'CONJ'), ('the', 'DET'), ('11th', 'ADJ'), ('time', 'NOUN'), ('that', 'ADP'), ('it', 'PRON'), ('has', 'VERB'), ('been', 'VERB'), ('held', 'VERB'), ('in', 'ADP'), ('Europe', 'NOUN'), ('.', '.')]\n",
      "[('Show', 'NOUN'), ('me', 'PRON'), ('the', 'DET'), ('cheapest', 'ADJ'), ('round', 'NOUN'), ('trips', 'X'), ('from', 'ADP'), ('Dallas', 'NOUN'), ('to', 'PRT'), ('Atlanta', 'NOUN')]\n",
      "[('I', 'PRON'), ('would', 'VERB'), ('like', 'ADP'), ('to', 'PRT'), ('see', 'VERB'), ('flights', 'NOUN'), ('from', 'ADP'), ('Denver', 'X'), ('to', 'PRT'), ('Philadelphia', 'NOUN'), ('.', '.')]\n",
      "[('Show', 'NOUN'), ('me', 'PRON'), ('the', 'DET'), ('price', 'NOUN'), ('of', 'ADP'), ('the', 'DET'), ('flights', 'NOUN'), ('leaving', 'VERB'), ('Atlanta', 'NOUN'), ('at', 'ADP'), ('about', 'ADP'), ('3', 'NUM'), ('in', 'ADP'), ('the', 'DET'), ('afternoon', 'NOUN'), ('and', 'CONJ'), ('arriving', 'X'), ('in', 'ADP'), ('San', 'NOUN'), ('Francisco', 'NOUN'), ('.', '.')]\n",
      "[('NASA', 'X'), ('invited', 'X'), ('social', 'ADJ'), ('media', 'NOUN'), ('users', 'NOUN'), ('to', 'PRT'), ('experience', 'NOUN'), ('the', 'DET'), ('launch', 'NOUN'), ('of', 'ADP'), ('ICESAT-2', 'X'), ('Satellite', 'X'), ('.', '.')]\n"
     ]
    }
   ],
   "source": [
    "#Let us print the test lines with the initial Viterbi algorithm\n",
    "for line in test_lines:\n",
    "    print(list(Viterbi(word_tokenize(line))))"
   ]
  },
  {
   "cell_type": "code",
   "execution_count": 52,
   "metadata": {},
   "outputs": [
    {
     "name": "stdout",
     "output_type": "stream",
     "text": [
      "[('Android', 'NOUN'), ('is', 'VERB'), ('a', 'DET'), ('mobile', 'ADJ'), ('operating', 'NOUN'), ('system', 'NOUN'), ('developed', 'VERB'), ('by', 'ADP'), ('Google', 'NOUN'), ('.', '.')]\n",
      "[('Android', 'NOUN'), ('has', 'VERB'), ('been', 'VERB'), ('the', 'DET'), ('best-selling', 'ADJ'), ('OS', 'NOUN'), ('worldwide', 'NOUN'), ('on', 'ADP'), ('smartphones', 'VERB'), ('since', 'ADP'), ('2011', 'NUM'), ('and', 'CONJ'), ('on', 'ADP'), ('tablets', 'NOUN'), ('since', 'ADP'), ('2013', 'NUM'), ('.', '.')]\n",
      "[('Google', 'NOUN'), ('and', 'CONJ'), ('Twitter', 'NOUN'), ('made', 'VERB'), ('a', 'DET'), ('deal', 'NOUN'), ('in', 'ADP'), ('2015', 'NUM'), ('that', 'ADP'), ('gave', 'VERB'), ('Google', 'NOUN'), ('access', 'NOUN'), ('to', 'PRT'), ('Twitter', 'NOUN'), (\"'s\", 'PRT'), ('firehose', 'NOUN'), ('.', '.')]\n",
      "[('Twitter', 'NOUN'), ('is', 'VERB'), ('an', 'DET'), ('online', 'NOUN'), ('news', 'NOUN'), ('and', 'CONJ'), ('social', 'ADJ'), ('networking', 'NOUN'), ('service', 'NOUN'), ('on', 'ADP'), ('which', 'DET'), ('users', 'NOUN'), ('post', 'NOUN'), ('and', 'CONJ'), ('interact', 'NOUN'), ('with', 'ADP'), ('messages', 'VERB'), ('known', 'VERB'), ('as', 'ADP'), ('tweets', 'NOUN'), ('.', '.')]\n",
      "[('Before', 'ADP'), ('entering', 'VERB'), ('politics', 'NOUN'), (',', '.'), ('Donald', 'NOUN'), ('Trump', 'NOUN'), ('was', 'VERB'), ('a', 'DET'), ('domineering', 'VERB'), ('businessman', 'NOUN'), ('and', 'CONJ'), ('a', 'DET'), ('television', 'NOUN'), ('personality', 'NOUN'), ('.', '.')]\n",
      "[('The', 'DET'), ('2018', 'NUM'), ('FIFA', 'NOUN'), ('World', 'NOUN'), ('Cup', 'NOUN'), ('is', 'VERB'), ('the', 'DET'), ('21st', 'NOUN'), ('FIFA', 'NOUN'), ('World', 'NOUN'), ('Cup', 'NOUN'), (',', '.'), ('an', 'DET'), ('international', 'ADJ'), ('football', 'NOUN'), ('tournament', 'NOUN'), ('contested', 'VERB'), ('once', 'ADV'), ('every', 'DET'), ('four', 'NUM'), ('years', 'NOUN'), ('.', '.')]\n",
      "[('This', 'DET'), ('is', 'VERB'), ('the', 'DET'), ('first', 'ADJ'), ('World', 'NOUN'), ('Cup', 'NOUN'), ('to', 'PRT'), ('be', 'VERB'), ('held', 'VERB'), ('in', 'ADP'), ('Eastern', 'NOUN'), ('Europe', 'NOUN'), ('and', 'CONJ'), ('the', 'DET'), ('11th', 'ADJ'), ('time', 'NOUN'), ('that', 'ADP'), ('it', 'PRON'), ('has', 'VERB'), ('been', 'VERB'), ('held', 'VERB'), ('in', 'ADP'), ('Europe', 'NOUN'), ('.', '.')]\n",
      "[('Show', 'NOUN'), ('me', 'PRON'), ('the', 'DET'), ('cheapest', 'ADJ'), ('round', 'NOUN'), ('trips', 'NOUN'), ('from', 'ADP'), ('Dallas', 'NOUN'), ('to', 'PRT'), ('Atlanta', 'NOUN')]\n",
      "[('I', 'PRON'), ('would', 'VERB'), ('like', 'ADP'), ('to', 'PRT'), ('see', 'VERB'), ('flights', 'NOUN'), ('from', 'ADP'), ('Denver', 'NOUN'), ('to', 'PRT'), ('Philadelphia', 'NOUN'), ('.', '.')]\n",
      "[('Show', 'NOUN'), ('me', 'PRON'), ('the', 'DET'), ('price', 'NOUN'), ('of', 'ADP'), ('the', 'DET'), ('flights', 'NOUN'), ('leaving', 'VERB'), ('Atlanta', 'NOUN'), ('at', 'ADP'), ('about', 'ADP'), ('3', 'NUM'), ('in', 'ADP'), ('the', 'DET'), ('afternoon', 'NOUN'), ('and', 'CONJ'), ('arriving', 'VERB'), ('in', 'ADP'), ('San', 'NOUN'), ('Francisco', 'NOUN'), ('.', '.')]\n",
      "[('NASA', 'NOUN'), ('invited', 'VERB'), ('social', 'ADJ'), ('media', 'NOUN'), ('users', 'NOUN'), ('to', 'PRT'), ('experience', 'NOUN'), ('the', 'DET'), ('launch', 'NOUN'), ('of', 'ADP'), ('ICESAT-2', 'NOUN'), ('Satellite', 'NOUN'), ('.', '.')]\n"
     ]
    }
   ],
   "source": [
    "#Let us print the test lines with the updated Viterbi algorithm\n",
    "for line in test_lines:\n",
    "    print(list(Viterbi_updated(word_tokenize(line))))"
   ]
  },
  {
   "cell_type": "markdown",
   "metadata": {},
   "source": [
    "The following sentences are corrected by the modified viterbi algorithm\n",
    "\n",
    "**'Android is a mobile operating system developed by Google.'**\n",
    "Here 'Android', 'Google' are unknown words and are incorrectly tagged in the initial viterbi algorithm. However with the updated Viterbi algorithm 'Android' and 'Google' are correctly classified as Nouns though they are unknown words\n",
    "\n",
    "**'Android has been the best-selling OS worldwide on smartphones since 2011 and on tablets since 2013.'**\n",
    "Here 'Android', 'Google',' worldwide' are unknown words and are incorrectly tagged in the initial viterbi algorithm. However with the updated Viterbi algorithm 'Android' and 'Google' are correctly classified as Nouns though they are unknown words.\n",
    "\n",
    "Also words like '2011' are incorrectly classified with the original algorithm. Because we used rule based tagger as backoff tagger and we have rule for indicating cardinal numbers '2011' is correctly tagged as 'NUM' in the updated viterbi algorithm\n",
    "\n",
    "**'NASA invited social media users to experience the launch of ICESAT-2 Satellite.'**\n",
    "Here 'NASA', 'ICESAT-2',' Satellite' are unknown words and are incorrectly tagged in the initial viterbi algorithm. However with the updated Viterbi algorithm 'Android' and 'Google' are correctly classified as Nouns though they are unknown words.\n",
    "\n",
    "Also words like '2011' are incorrectly classified with the original algorithm. Because we used rule based tagger as backoff tagger and we have rule for indicating cardinal numbers '2011' is correctly tagged as 'NUM' in the updated viterbi algorithm"
   ]
  },
  {
   "cell_type": "code",
   "execution_count": 53,
   "metadata": {},
   "outputs": [],
   "source": [
    "# Viterbi Heuristic\n",
    "def Viterbi_updated2(words, train_bag = train_tagged_words):\n",
    "    state = []\n",
    "    T = list(set([pair[1] for pair in train_bag]))\n",
    "    \n",
    "    for key, word in enumerate(words):\n",
    "        #initialise list of probability column for a given observation\n",
    "        p = [] \n",
    "        for tag in T:\n",
    "            if key == 0:\n",
    "                transition_p = tags_df.loc['.', tag]\n",
    "            else:\n",
    "                transition_p = tags_df.loc[state[-1], tag]\n",
    "                \n",
    "            # compute emission and state probabilities\n",
    "            emission_p = word_given_tag(words[key], tag)[0]/word_given_tag(words[key], tag)[1]\n",
    "            state_probability = emission_p * transition_p    \n",
    "            p.append(state_probability)\n",
    "            \n",
    "        pmax = max(p)\n",
    "       \n",
    "        #Check if state probability is zero\n",
    "        if(pmax<0.001):\n",
    "            #If state probability is zero i.e if the word is unknown if updates the tag based on the brill tagger\n",
    "            state_max = brill_tagger.tag([word])[0][1]\n",
    "        else:\n",
    "            # getting state for which probability is maximum\n",
    "            state_max = T[p.index(pmax)] \n",
    "        state.append(state_max)\n",
    "    return list(zip(words, state))"
   ]
  },
  {
   "cell_type": "code",
   "execution_count": 54,
   "metadata": {},
   "outputs": [
    {
     "name": "stdout",
     "output_type": "stream",
     "text": [
      "2489.4587347507477\n"
     ]
    }
   ],
   "source": [
    "# tagging the test sentences with the updated Viterbi algorithm\n",
    "start = time.time()\n",
    "updated_tagged_seq = Viterbi_updated2(test_tagged_words)\n",
    "end = time.time()\n",
    "difference = end-start\n",
    "#Print total time taken to train the algorithm\n",
    "print(difference)"
   ]
  },
  {
   "cell_type": "code",
   "execution_count": 55,
   "metadata": {},
   "outputs": [
    {
     "data": {
      "text/plain": [
       "0.9471635150166852"
      ]
     },
     "execution_count": 55,
     "metadata": {},
     "output_type": "execute_result"
    }
   ],
   "source": [
    "# Calculate the accuracy for the updated Viterbi algorithm\n",
    "check = [i for i, j in zip(updated_tagged_seq, test_run_base) if i == j] \n",
    "accuracy = len(check)/len(updated_tagged_seq)\n",
    "accuracy"
   ]
  }
 ],
 "metadata": {
  "kernelspec": {
   "display_name": "Python 3",
   "language": "python",
   "name": "python3"
  },
  "language_info": {
   "codemirror_mode": {
    "name": "ipython",
    "version": 3
   },
   "file_extension": ".py",
   "mimetype": "text/x-python",
   "name": "python",
   "nbconvert_exporter": "python",
   "pygments_lexer": "ipython3",
   "version": "3.7.4"
  }
 },
 "nbformat": 4,
 "nbformat_minor": 2
}
